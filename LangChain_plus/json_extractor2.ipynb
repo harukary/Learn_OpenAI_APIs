{
 "cells": [
  {
   "attachments": {},
   "cell_type": "markdown",
   "metadata": {},
   "source": [
    "### 必要なパッケージをインポート"
   ]
  },
  {
   "attachments": {},
   "cell_type": "markdown",
   "metadata": {},
   "source": [
    "#### .envファイル\n",
    "```yaml\n",
    "OPENAI_API_KEY=sk-************************\n",
    "```"
   ]
  },
  {
   "cell_type": "code",
   "execution_count": 7,
   "metadata": {},
   "outputs": [],
   "source": [
    "import openai,os,requests,json,re,bs4\n",
    "from tqdm import tqdm\n",
    "from dotenv import load_dotenv, find_dotenv\n",
    "_ = load_dotenv(find_dotenv())\n",
    "openai.api_key = os.environ['OPENAI_API_KEY']"
   ]
  },
  {
   "cell_type": "code",
   "execution_count": 8,
   "metadata": {},
   "outputs": [],
   "source": [
    "from langchain.prompts import ChatPromptTemplate\n",
    "from langchain.document_loaders import UnstructuredHTMLLoader\n",
    "from langchain.text_splitter import RecursiveCharacterTextSplitter\n",
    "from langchain.chat_models import ChatOpenAI"
   ]
  },
  {
   "attachments": {},
   "cell_type": "markdown",
   "metadata": {},
   "source": [
    "### Prompts"
   ]
  },
  {
   "attachments": {},
   "cell_type": "markdown",
   "metadata": {},
   "source": [
    "LangChainのRefineに倣い、InitialプロンプトとRefineプロンプトを作成した。\\\n",
    "不要な「,」を含んで、json.loads()でパースできない場合があったため、以下を追加した。\\\n",
    "（これでもたまにパースできないJsonを返してくる。。\\\n",
    "LangChainのOutput Parserを使いたいが、リストや入れ子構造があるJsonに対する方法がわからない。\\\n",
    "Pydantic Parserだと、英語で書かないとプロンプトが文字化けする。）\n",
    "\n",
    "```\n",
    "json.loads()関数でパースできるよう、listやdictの最後の要素には「,」を含めないでください。\n",
    "```\n",
    "\n",
    "また、Refineプロンプトでは、必要な場合のみ修正するようにした。\n",
    "ドキュメントの最初に重要な情報が多く、最後に近づくにつれ関連コンテンツなど、メインコンテンツと関係ないものが多くなるという仮定を入れている。\n",
    "\n",
    "```\n",
    "[Text]をもとに、[Data]について新しい情報がある場合のみ[Data]を修正してください。\\\n",
    "[Text]が[Data]に関連した情報を提供しない場合、[Data]をそのまま出力してください。\n",
    "```"
   ]
  },
  {
   "cell_type": "code",
   "execution_count": 9,
   "metadata": {},
   "outputs": [
    {
     "name": "stdout",
     "output_type": "stream",
     "text": [
      "initial: ['output_format', 'text']\n",
      "refine: ['data', 'output_format', 'text']\n"
     ]
    }
   ],
   "source": [
    "## Initial Prompt\n",
    "initial_str = \"\"\"\\\n",
    "## Output Format\n",
    "```json\n",
    "{output_format}\n",
    "```\n",
    "\n",
    "## Input\n",
    "{text}\n",
    "\n",
    "## Instruction\n",
    "[Input]はあるWebページのテキストの一部です。\\\n",
    "[Output Format]に従って出力してください。\\\n",
    "json.loads()関数でパースできるよう、listやdictの最後の要素には「,」を含めないでください。\\\n",
    "[Input]から読み取れないデータは出力に含めないでください。\n",
    "\"\"\"\n",
    "\n",
    "## Refine Prompt\n",
    "refine_str = \"\"\"\\\n",
    "## Output Format\n",
    "```json\n",
    "{output_format}\n",
    "```\n",
    "\n",
    "## Data\n",
    "{data}\n",
    "\n",
    "## Text\n",
    "{text}\n",
    "\n",
    "## Instruction\n",
    "あなたのタスクは、最終的なデータを生成することです。\\\n",
    "現時点でのデータは[Data]です。\n",
    "[Text]をもとに、[Data]について新しい情報がある場合のみ[Data]を修正してください。\\\n",
    "[Text]が[Data]に関連した情報を提供しない場合、[Data]をそのまま出力してください。\n",
    "[Output Format]に従って出力してください。\\\n",
    "json.loads()関数でパースできるよう、listやdictの最後の要素には「,」を含めないでください。\n",
    "\"\"\"\n",
    "initial_prompt_template = ChatPromptTemplate.from_template(initial_str)\n",
    "print('initial:',initial_prompt_template.messages[0].prompt.input_variables)\n",
    "refine_prompt_template = ChatPromptTemplate.from_template(refine_str)\n",
    "print('refine:',refine_prompt_template.messages[0].prompt.input_variables)"
   ]
  },
  {
   "attachments": {},
   "cell_type": "markdown",
   "metadata": {},
   "source": [
    "### ヘルパー関数"
   ]
  },
  {
   "attachments": {},
   "cell_type": "markdown",
   "metadata": {},
   "source": [
    "メイン関数で使う関数などを定義した。\n",
    "\n",
    "`chunk_size`などは、現在はえいやで決めている。\\\n",
    "指示プロンプトと出力Jsonフォーマットのトークン数に基づき、トークン数制約ぎりぎりになるように調整することでチャンク数を抑えられるため、\\\n",
    "今後クラス化して使うときに調整機能をつけようと思う。"
   ]
  },
  {
   "cell_type": "code",
   "execution_count": 10,
   "metadata": {},
   "outputs": [],
   "source": [
    "text_splitter = RecursiveCharacterTextSplitter(\n",
    "    chunk_size = 3072,\n",
    "    chunk_overlap  = 512,\n",
    "    length_function = len,\n",
    ")\n",
    "chat = ChatOpenAI(temperature=0.)\n",
    "\n",
    "def load_doc(url):\n",
    "    response = requests.get(url)\n",
    "    with open('temp.html','w') as f:\n",
    "        f.write(response.text)\n",
    "    loader = UnstructuredHTMLLoader(\"temp.html\")\n",
    "    data = loader.load()\n",
    "    return data\n",
    "\n",
    "def get_raw_html(url):\n",
    "    response = requests.get(url)\n",
    "    return response.text\n",
    "\n",
    "def get_comressed_html(url):\n",
    "    html = get_raw_html(url)\n",
    "    soup = bs4.BeautifulSoup(html, 'html.parser')\n",
    "\n",
    "def extract_json(text,debug=False):\n",
    "    patterns = [\n",
    "        {\"pattern\": r'```json\\n(.*?)```', \"group\": 1},\n",
    "        {\"pattern\": r'\\{.*\\}', \"group\": 0},\n",
    "    ]\n",
    "    for p in patterns:\n",
    "        match = re.search(p[\"pattern\"], text, re.DOTALL)\n",
    "        if match:\n",
    "            json_string = match.group(p[\"group\"])\n",
    "            if debug:\n",
    "                print('json_string:',json_string,sep='\\n')\n",
    "            data_json = json.loads(json_string)\n",
    "            return data_json\n",
    "    print('Error:Could not json extracted:',text)\n",
    "    return {}"
   ]
  },
  {
   "attachments": {},
   "cell_type": "markdown",
   "metadata": {},
   "source": [
    "### メイン関数"
   ]
  },
  {
   "attachments": {},
   "cell_type": "markdown",
   "metadata": {},
   "source": [
    "まずはWebページのテキストをLangChainのドキュメントとし、チャンクに分割する。\\\n",
    "１つ目のチャンクにはInitialプロンプト、２つ目以降の各チャンクにはRefineプロンプトを適用する。\\\n",
    "最後にソースURLをデータに加えて終了。"
   ]
  },
  {
   "cell_type": "code",
   "execution_count": 11,
   "metadata": {},
   "outputs": [],
   "source": [
    "def extact_json_from_url(url,data_format,debug=False):\n",
    "    # doc = load_doc(url)\n",
    "    # docs = text_splitter.split_documents(doc)\n",
    "    text = get_raw_html(url)\n",
    "    docs = text_splitter.create_documents([text])\n",
    "    data = {}\n",
    "    for i,doc in enumerate(docs):\n",
    "        text = doc.page_content\n",
    "        if debug:\n",
    "            print(i+1,'-'*30)\n",
    "            print(text.replace('\\n','').replace(' ','')[:100],'...')\n",
    "            print('...',text.replace('\\n','').replace(' ','')[-100:])\n",
    "        if i == 0:\n",
    "            messages = initial_prompt_template.format_messages(\n",
    "                output_format=json.dumps(data_format,indent=2,ensure_ascii=False),\n",
    "                text=text\n",
    "            )\n",
    "            response = chat(messages)\n",
    "            data = extract_json(response.content,debug=debug)\n",
    "        else:\n",
    "            messages = refine_prompt_template.format_messages(\n",
    "                output_format=json.dumps(data_format,indent=2,ensure_ascii=False),\n",
    "                text=text,\n",
    "                data=json.dumps(data,indent=2,ensure_ascii=False)\n",
    "            )\n",
    "            response = chat(messages)\n",
    "            data = extract_json(response.content,debug=debug)\n",
    "        if debug:\n",
    "            print(json.dumps(data,ensure_ascii=False))\n",
    "    data['url'] = url\n",
    "    return data"
   ]
  },
  {
   "attachments": {},
   "cell_type": "markdown",
   "metadata": {},
   "source": [
    "### Example: レシピ"
   ]
  },
  {
   "cell_type": "code",
   "execution_count": 12,
   "metadata": {},
   "outputs": [],
   "source": [
    "recipe_format = {\n",
    "    \"name\": \"レシピ名\",\n",
    "    \"description\": \"レシピの説明\",\n",
    "    \"cooking_time\": \"int: minutes\",\n",
    "    \"appliances\": [\n",
    "        \"str: 調理器具\"\n",
    "    ],\n",
    "    \"serves\": \"int: 人前\",\n",
    "    \"ingredients\": [\n",
    "        {\n",
    "            \"name\": \"str: 材料名\",\n",
    "            \"amount\": \"str: 分量表記\",\n",
    "            \"g\": \"int: 分量表記から推定した重量(gram)\"\n",
    "        }\n",
    "    ],\n",
    "    \"steps\": {\n",
    "        \"str: 手順番号\":\"str: 手順の説明\"\n",
    "    }\n",
    "}"
   ]
  },
  {
   "cell_type": "code",
   "execution_count": 13,
   "metadata": {},
   "outputs": [],
   "source": [
    "# url = \"https://park.ajinomoto.co.jp/recipe/card/705645/\"\n",
    "url = \"https://www.lettuceclub.net/recipe/dish/14360/\""
   ]
  },
  {
   "cell_type": "code",
   "execution_count": 14,
   "metadata": {},
   "outputs": [],
   "source": [
    "data = extact_json_from_url(url,recipe_format)\n",
    "print(json.dumps(data,indent=2,ensure_ascii=False))"
   ]
  },
  {
   "attachments": {},
   "cell_type": "markdown",
   "metadata": {},
   "source": [
    "### Example: イベント"
   ]
  },
  {
   "cell_type": "code",
   "execution_count": null,
   "metadata": {},
   "outputs": [],
   "source": [
    "event_format = {\n",
    "    'title': 'str: イベント名',\n",
    "    'organizer': 'str: 主催者',\n",
    "    'date': ['str: 日付。形式はYYYY/MM/DD'],\n",
    "    'location': 'str: 開催場所',\n",
    "    'description': 'str: イベント概要。400字以内',\n",
    "    'schedule': ['str: スケジュール。形式はYYYY/MM/DD HH:MM~HH:MM（補足）'],\n",
    "}"
   ]
  },
  {
   "cell_type": "code",
   "execution_count": null,
   "metadata": {},
   "outputs": [],
   "source": [
    "# url = \"https://food-innovation.co/sksjapan/sksj2023/\"\n",
    "url = \"https://www.nagoya-info.jp/event/detail/404/\""
   ]
  },
  {
   "cell_type": "code",
   "execution_count": null,
   "metadata": {},
   "outputs": [
    {
     "name": "stdout",
     "output_type": "stream",
     "text": [
      "{\n",
      "  \"title\": \"オアシス２１iセンター体験イベント＜有松・鳴海絞り染め＞\",\n",
      "  \"organizer\": \"オアシス２１iセンター\",\n",
      "  \"date\": [\n",
      "    \"2023/06/12\"\n",
      "  ],\n",
      "  \"location\": \"オアシス２１iセンター前（オアシス２１地下1階）\",\n",
      "  \"description\": \"名古屋には古くから染めものが根付いています。オアシス２１iセンターでは染めの楽しさを感じてもらえる「有松・鳴海絞り染め」の体験イベントを毎月開催しています。小さなお子様も大歓迎ですので、お気軽にご参加ください。英語対応も可能です。\",\n",
      "  \"schedule\": [\n",
      "    \"2023/06/12 10:00~18:00\"\n",
      "  ],\n",
      "  \"url\": \"https://www.nagoya-info.jp/event/detail/404/\"\n",
      "}\n"
     ]
    }
   ],
   "source": [
    "data = extact_json_from_url(url,event_format,debug=False)\n",
    "print(json.dumps(data,indent=2,ensure_ascii=False))"
   ]
  }
 ],
 "metadata": {
  "kernelspec": {
   "display_name": ".venv",
   "language": "python",
   "name": "python3"
  },
  "language_info": {
   "codemirror_mode": {
    "name": "ipython",
    "version": 3
   },
   "file_extension": ".py",
   "mimetype": "text/x-python",
   "name": "python",
   "nbconvert_exporter": "python",
   "pygments_lexer": "ipython3",
   "version": "3.10.5"
  },
  "orig_nbformat": 4
 },
 "nbformat": 4,
 "nbformat_minor": 2
}
