{
 "cells": [
  {
   "cell_type": "code",
   "execution_count": 36,
   "metadata": {},
   "outputs": [],
   "source": [
    "from langchain.chat_models import ChatOpenAI\n",
    "from llama_index import LLMPredictor, ServiceContext, PromptHelper\n",
    "from langchain import PromptTemplate\n",
    "from langchain.prompts import ChatPromptTemplate\n",
    "\n",
    "import openai,os,requests,json,bs4\n",
    "from dotenv import load_dotenv, find_dotenv\n",
    "_ = load_dotenv(find_dotenv()) # read local .env file\n",
    "openai.api_key = os.environ['OPENAI_API_KEY']"
   ]
  },
  {
   "cell_type": "code",
   "execution_count": 37,
   "metadata": {},
   "outputs": [],
   "source": [
    "url = \"https://park.ajinomoto.co.jp/recipe/card/705645/\""
   ]
  },
  {
   "cell_type": "code",
   "execution_count": 38,
   "metadata": {},
   "outputs": [],
   "source": [
    "template_string = \"\"\"\\\n",
    "## Recipe Format\n",
    "```json\n",
    "{recipe_format}\n",
    "```\n",
    "\n",
    "## Instruction\n",
    "[Recipe Format]に従ってレシピデータを作成してください。\n",
    "\n",
    "\"\"\""
   ]
  },
  {
   "cell_type": "code",
   "execution_count": 39,
   "metadata": {},
   "outputs": [],
   "source": [
    "recipe_format = {\n",
    "    \"name\": \"レシピ名\",\n",
    "    \"description\": \"レシピの説明\",\n",
    "    \"cooking_time\": \"int: minutes\",\n",
    "    \"appliances\": [\n",
    "        \"str: 調理器具\"\n",
    "    ],\n",
    "    \"serves\": \"int: 人前\",\n",
    "    \"nutrition\": {\n",
    "        \"calorie\": \"int: カロリー(kcal)\", \n",
    "        \"protein\": \"float: たんぱく質(gram)\", \n",
    "        \"lipid\": \"float: 脂質(gram)\",\n",
    "        \"carbohydrate\": \"float: 炭水化物(gram)\",\n",
    "        \"sugar\": \"float: 糖質(gram)\",\n",
    "        \"dietary_fiber\": \"float: 食物繊維(gram)\",\n",
    "        \"salt\": \"float: 塩分(gram)\"\n",
    "    },\n",
    "    \"ingredients\": [\n",
    "        {\n",
    "            \"name\": \"str: 材料名\",\n",
    "            \"amount\": \"str: 分量表記\",\n",
    "            \"g\": \"int: 分量表記から推定した重量(gram)\"\n",
    "        }\n",
    "    ],\n",
    "    \"steps\": [\n",
    "        \"str: 手順の説明\"\n",
    "    ]\n",
    "}"
   ]
  },
  {
   "cell_type": "code",
   "execution_count": 40,
   "metadata": {},
   "outputs": [
    {
     "name": "stdout",
     "output_type": "stream",
     "text": [
      "['recipe_format']\n"
     ]
    }
   ],
   "source": [
    "prompt_template = ChatPromptTemplate.from_template(template_string)\n",
    "print(prompt_template.messages[0].prompt.input_variables)"
   ]
  },
  {
   "cell_type": "code",
   "execution_count": 41,
   "metadata": {},
   "outputs": [],
   "source": [
    "max_input_size = 4096\n",
    "num_output = 2048  #2048に拡大\n",
    "max_chunk_overlap = 0.2\n",
    "prompt_helper = PromptHelper(\n",
    "    max_input_size,\n",
    "    num_output,\n",
    "    max_chunk_overlap\n",
    ")\n",
    "llm_predictor = LLMPredictor(llm=ChatOpenAI(temperature=0, max_tokens=2048))\n",
    "service_context = ServiceContext.from_defaults(\n",
    "    llm_predictor=llm_predictor, \n",
    "    prompt_helper=prompt_helper\n",
    ")"
   ]
  },
  {
   "cell_type": "code",
   "execution_count": 42,
   "metadata": {},
   "outputs": [],
   "source": [
    "from llama_index import GPTVectorStoreIndex\n",
    "from llama_index.readers import BeautifulSoupWebReader\n",
    "\n",
    "documents = BeautifulSoupWebReader().load_data(urls=[url])\n",
    "index = GPTVectorStoreIndex.from_documents(documents,  service_context=service_context) \n",
    "query_engine = index.as_query_engine()"
   ]
  },
  {
   "cell_type": "code",
   "execution_count": 43,
   "metadata": {},
   "outputs": [
    {
     "name": "stdout",
     "output_type": "stream",
     "text": [
      "Based on the new context, here is an example of the recipe format:\n",
      "\n",
      "```json\n",
      "{\n",
      "  \"name\": \"さやいんげんの煮物\",\n",
      "  \"description\": \"さやいんげんを煮た和風の煮物です。\",\n",
      "  \"cooking_time\": 20,\n",
      "  \"appliances\": [\n",
      "    \"鍋\"\n",
      "  ],\n",
      "  \"serves\": 2,\n",
      "  \"nutrition\": {\n",
      "    \"calorie\": 150,\n",
      "    \"protein\": 5,\n",
      "    \"lipid\": 7,\n",
      "    \"carbohydrate\": 15,\n",
      "    \"sugar\": 5,\n",
      "    \"dietary_fiber\": 5,\n",
      "    \"salt\": 2\n",
      "  },\n",
      "  \"ingredients\": [\n",
      "    {\n",
      "      \"name\": \"水\",\n",
      "      \"amount\": \"2カップ\",\n",
      "      \"g\": 480\n",
      "    },\n",
      "    {\n",
      "      \"name\": \"酒\",\n",
      "      \"amount\": \"大さじ2\",\n",
      "      \"g\": null\n",
      "    },\n",
      "    {\n",
      "      \"name\": \"ほんだし\",\n",
      "      \"amount\": \"小さじ1\",\n",
      "      \"g\": null\n",
      "    },\n",
      "    {\n",
      "      \"name\": \"砂糖\",\n",
      "      \"amount\": \"大さじ1\",\n",
      "      \"g\": 20\n",
      "    },\n",
      "    {\n",
      "      \"name\": \"みりん\",\n",
      "      \"amount\": \"大さじ1\",\n",
      "      \"g\": null\n",
      "    },\n",
      "    {\n",
      "      \"name\": \"しょうゆ\",\n",
      "      \"amount\": \"大さじ2\",\n",
      "      \"g\": null\n",
      "    },\n",
      "    {\n",
      "      \"name\": \"さやいんげん（ゆで）\",\n",
      "      \"amount\": \"適量\",\n",
      "      \"g\": 200\n",
      "    },\n",
      "    {\n",
      "      \"name\": \"AJINOMOTO サラダ油\",\n",
      "      \"amount\": \"適量\",\n",
      "      \"g\": null\n",
      "    }\n",
      "  ],\n",
      "  \"steps\": [\n",
      "    \"1. 鍋に水、酒、ほんだし、砂糖、みりん、しょうゆを入れて火にかけます。\",\n",
      "    \"2. 沸騰したら、さやいんげんを加えて弱火で10分ほど煮ます。\",\n",
      "    \"3. 器に盛り付けて、サラダ油をかけて完成です。\"\n",
      "  ]\n",
      "}\n",
      "``` \n",
      "\n",
      "Note: The weight of some ingredients such as \"酒\", \"ほんだし\", \"みりん\", and \"しょうゆ\" are not provided, so their \"g\" value is set to null.\n"
     ]
    }
   ],
   "source": [
    "answer = query_engine.query(prompt_template.format(recipe_format=json.dumps(recipe_format,indent=2,ensure_ascii=False)))\n",
    "print(answer)"
   ]
  }
 ],
 "metadata": {
  "kernelspec": {
   "display_name": ".venv",
   "language": "python",
   "name": "python3"
  },
  "language_info": {
   "codemirror_mode": {
    "name": "ipython",
    "version": 3
   },
   "file_extension": ".py",
   "mimetype": "text/x-python",
   "name": "python",
   "nbconvert_exporter": "python",
   "pygments_lexer": "ipython3",
   "version": "3.9.7"
  },
  "orig_nbformat": 4
 },
 "nbformat": 4,
 "nbformat_minor": 2
}
