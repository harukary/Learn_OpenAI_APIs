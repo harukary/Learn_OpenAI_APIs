{
 "cells": [
  {
   "cell_type": "code",
   "execution_count": 2,
   "metadata": {},
   "outputs": [],
   "source": [
    "import openai,os,requests,json,re\n",
    "from tqdm import tqdm\n",
    "from dotenv import load_dotenv, find_dotenv\n",
    "_ = load_dotenv(find_dotenv())\n",
    "openai.api_key = os.environ['OPENAI_API_KEY']"
   ]
  },
  {
   "cell_type": "code",
   "execution_count": 3,
   "metadata": {},
   "outputs": [
    {
     "name": "stdout",
     "output_type": "stream",
     "text": [
      "message>>>\n",
      " {\n",
      "  \"role\": \"assistant\",\n",
      "  \"content\": null,\n",
      "  \"function_call\": {\n",
      "    \"name\": \"get_current_weather\",\n",
      "    \"arguments\": \"{\\n  \\\"location\\\": \\\"Boston, MA\\\",\\n  \\\"unit\\\": \\\"celsius\\\"\\n}\"\n",
      "  }\n",
      "} \n",
      "\n",
      "\n",
      "response>>>\n",
      " ボストンの現在の天気は晴れで、気温は摂氏72度です。風も強いようです。 \n",
      "\n",
      "\n"
     ]
    }
   ],
   "source": [
    "# 指定した場所の天気情報を返すダミー関数 (本番では外部APIを利用)\n",
    "def get_current_weather(location, unit=\"fahrenheit\"):\n",
    "    weather_info = {\n",
    "        \"location\": location,\n",
    "        \"temperature\": \"72\",\n",
    "        \"unit\": unit,\n",
    "        \"forecast\": [\"sunny\", \"windy\"],\n",
    "    }\n",
    "    return json.dumps(weather_info)\n",
    "\n",
    "def run_conversation():\n",
    "    # STEP1: モデルにユーザー入力と関数の情報を送る\n",
    "    response = openai.ChatCompletion.create(\n",
    "        model=\"gpt-3.5-turbo-0613\",\n",
    "        messages=[{\"role\": \"user\", \"content\": \"ボストンの天気はどうなんだろう？\"}],\n",
    "        functions=[\n",
    "            {\n",
    "                \"name\": \"get_current_weather\",\n",
    "                \"description\": \"指定した場所の現在の天気を取得\",\n",
    "                \"parameters\": {\n",
    "                    \"type\": \"object\",\n",
    "                    \"properties\": {\n",
    "                        \"location\": {\n",
    "                            \"type\": \"string\",\n",
    "                            \"description\": \"都市と州（例：San Francisco, CA)\",\n",
    "                        },\n",
    "                        \"unit\": {\"type\": \"string\", \"enum\": [\"celsius\", \"fahrenheit\"]},\n",
    "                    },\n",
    "                    \"required\": [\"location\"],\n",
    "                },\n",
    "            }\n",
    "        ],\n",
    "        function_call=\"auto\",\n",
    "    )\n",
    "    message = response[\"choices\"][0][\"message\"]\n",
    "    print(\"message>>>\\n\", message, \"\\n\\n\")\n",
    "\n",
    "    # STEP2: モデルが関数を呼び出したいかどうかを確認\n",
    "    if message.get(\"function_call\"):\n",
    "        function_name = message[\"function_call\"][\"name\"]\n",
    "\n",
    "        # STEP3: 関数を呼び出す\n",
    "        function_response = get_current_weather(\n",
    "            location=message.get(\"location\"),\n",
    "            unit=message.get(\"unit\"),\n",
    "        )\n",
    "\n",
    "        # STEP4: モデルにユーザー入力と関数の実行結果を送る\n",
    "        second_response = openai.ChatCompletion.create(\n",
    "            model=\"gpt-3.5-turbo-0613\",\n",
    "            messages=[\n",
    "                {\"role\": \"user\", \"content\": \"ボストンの天気はどうなんだろう？\"},\n",
    "                message,\n",
    "                {\n",
    "                    \"role\": \"function\",\n",
    "                    \"name\": function_name,\n",
    "                    \"content\": function_response,\n",
    "                },\n",
    "            ],\n",
    "        )\n",
    "        return second_response\n",
    "\n",
    "# 実行\n",
    "print(\"response>>>\\n\", run_conversation()[\"choices\"][0][\"message\"][\"content\"], \"\\n\\n\")"
   ]
  },
  {
   "cell_type": "code",
   "execution_count": 11,
   "metadata": {},
   "outputs": [
    {
     "name": "stdout",
     "output_type": "stream",
     "text": [
      "{\n",
      "  \"title\": \"SKS Japan 2023\",\n",
      "  \"organizer\": \"シグマクシス\",\n",
      "  \"date\": \"2023/07/27~2023/07/29\",\n",
      "  \"location\": \"竹芝ポートシティ\"\n",
      "}\n"
     ]
    }
   ],
   "source": [
    "response = openai.ChatCompletion.create(\n",
    "    model=\"gpt-3.5-turbo-0613\",\n",
    "    messages=[{\"role\": \"user\", \"content\": \"2023年7月27日〜29日。竹芝ポートシティでSKS Japan 2023が開催。主催はシグマクシス\"}],\n",
    "    functions=[\n",
    "        {\n",
    "            \"name\": \"get_event\",\n",
    "            \"description\": \"イベント情報をJson形式で返す\",\n",
    "            \"parameters\": {\n",
    "                \"type\": \"object\",\n",
    "                \"properties\": {\n",
    "                    \"title\": {\n",
    "                        \"type\": \"string\", \"description\": \"イベント名\"\n",
    "                    },\n",
    "                    \"organizer\": {\n",
    "                        \"type\": \"string\", \"description\": \"主催者\"\n",
    "                    },\n",
    "                    \"date\": {\n",
    "                        \"type\": \"string\", \"description\": \"日付。形式はYYYY/MM/DD~YYYY/MM/DD\"\n",
    "                    },\n",
    "                    \"location\": {\n",
    "                        \"type\": \"string\", \"description\": \"開催場所\",\n",
    "                    },\n",
    "                },\n",
    "                \"required\": [\"title\",\"organizer\",\"date\",\"location\"],\n",
    "            },\n",
    "        }\n",
    "    ],\n",
    "    function_call=\"auto\",\n",
    ")\n",
    "message = response[\"choices\"][0][\"message\"]\n",
    "print(json.dumps(json.loads(message['function_call']['arguments']),indent=2,ensure_ascii=False))"
   ]
  }
 ],
 "metadata": {
  "kernelspec": {
   "display_name": ".venv",
   "language": "python",
   "name": "python3"
  },
  "language_info": {
   "codemirror_mode": {
    "name": "ipython",
    "version": 3
   },
   "file_extension": ".py",
   "mimetype": "text/x-python",
   "name": "python",
   "nbconvert_exporter": "python",
   "pygments_lexer": "ipython3",
   "version": "3.10.1"
  },
  "orig_nbformat": 4
 },
 "nbformat": 4,
 "nbformat_minor": 2
}
