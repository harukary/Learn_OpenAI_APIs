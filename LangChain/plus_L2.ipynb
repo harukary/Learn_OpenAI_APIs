{
 "cells": [
  {
   "attachments": {},
   "cell_type": "markdown",
   "metadata": {},
   "source": [
    "## L2\n",
    "他にも、色々なConversation Memoryがあります。\n",
    "\n",
    "* ConversationTokenBufferMemory\n",
    "* ConversationEntityMemory\n",
    "* ConversationKGMemory\n",
    "* VectorStoreRetrieverMemory\n",
    "\n",
    "ConversationSummaryBufferMemoryは、ConversationSummaryMemoryとConversationTokenBufferMemoryを組み合わせたもので、`max_tokens`に合わせて要約と直近の対話履歴を提供できます。\n",
    "便利そうですが、QAチャットボットなどでは、「忘れてくれないこと」が不便かもしれませんね。\n",
    "\n",
    "ConversationEntityMemoryは、対話履歴中のEntityとその説明を提供します。\n",
    "固有名詞が多い会話とかに使うんですかね。家族構成などを含む会話だと役立つかもしれません。\n",
    "\n",
    "ConversationKGMemoryは、ナレッジグラフを提供します。これもEntityと同様ですね。EntityよりEntity間の関係に注目したいときに役立ちそうです。あまり有効な使い道が浮かびません。。\n",
    "\n",
    "VectorStoreRetrieverMemoryは、過去のやりとりのEmbeddingを検索して提供するものです。関連する部分をそのまま持って来れるので、Entityリストやナレッジグラフより使いやすそうです。\n",
    "\n",
    "Entityリスト・ナレッジグラフ・ベクトルストアは、会話の中で生成していくというよりも、会話の前に準備しておく使い方かもしれません。"
   ]
  },
  {
   "attachments": {},
   "cell_type": "markdown",
   "metadata": {},
   "source": [
    "### ConversationKGMemory"
   ]
  },
  {
   "attachments": {},
   "cell_type": "markdown",
   "metadata": {},
   "source": []
  }
 ],
 "metadata": {
  "language_info": {
   "name": "python"
  },
  "orig_nbformat": 4
 },
 "nbformat": 4,
 "nbformat_minor": 2
}
