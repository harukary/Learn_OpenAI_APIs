{
 "cells": [
  {
   "attachments": {},
   "cell_type": "markdown",
   "metadata": {},
   "source": [
    "### Recipe Description"
   ]
  },
  {
   "cell_type": "code",
   "execution_count": 1,
   "metadata": {},
   "outputs": [],
   "source": [
    "from dotenv import load_dotenv, find_dotenv\n",
    "_ = load_dotenv(find_dotenv()) # read local .env file"
   ]
  },
  {
   "cell_type": "code",
   "execution_count": 2,
   "metadata": {},
   "outputs": [],
   "source": [
    "from langchain.chat_models import ChatOpenAI\n",
    "from langchain.prompts import ChatPromptTemplate\n",
    "from langchain.chains import LLMChain\n",
    "from langchain.chains import SequentialChain"
   ]
  },
  {
   "attachments": {},
   "cell_type": "markdown",
   "metadata": {},
   "source": [
    "#### レシピの栄養解説"
   ]
  },
  {
   "cell_type": "code",
   "execution_count": 9,
   "metadata": {},
   "outputs": [],
   "source": [
    "llm = ChatOpenAI(temperature=0.)\n",
    "prompt1 = ChatPromptTemplate.from_template(\n",
    "    \"以下のレシピの栄養バランスについて解説をしてください。400文字以内。\"\n",
    "    \"\\n\\n{Recipe}\"\n",
    ")\n",
    "chain1 = LLMChain(\n",
    "    llm=llm, prompt=prompt1,\n",
    "    output_key=\"nutritional_description\",\n",
    "    # verbose=True\n",
    ")"
   ]
  },
  {
   "attachments": {},
   "cell_type": "markdown",
   "metadata": {},
   "source": [
    "#### 代替食材"
   ]
  },
  {
   "cell_type": "code",
   "execution_count": 10,
   "metadata": {},
   "outputs": [],
   "source": [
    "llm = ChatOpenAI(temperature=0.)\n",
    "prompt2 = ChatPromptTemplate.from_template(\n",
    "    \"以下のレシピの材料で代替可能な食材を教えてください。\"\n",
    "    \"\\n\\n{Recipe}\"\n",
    ")\n",
    "chain2 = LLMChain(\n",
    "    llm=llm, prompt=prompt2,\n",
    "    output_key=\"food_substitution\",\n",
    "    # verbose=True\n",
    ")"
   ]
  },
  {
   "attachments": {},
   "cell_type": "markdown",
   "metadata": {},
   "source": [
    "#### 食材代替後の栄養解説"
   ]
  },
  {
   "cell_type": "code",
   "execution_count": 11,
   "metadata": {},
   "outputs": [],
   "source": [
    "llm = ChatOpenAI(temperature=0.)\n",
    "prompt3 = ChatPromptTemplate.from_template(\n",
    "    \"以下のレシピの食材代替後の栄養バランスについて解説をしてください。400文字以内\"\n",
    "    \"\\n\\n{Recipe}\"\n",
    "    \"\\n\\n{nutritional_description}\"\n",
    "    \"\\n\\n{food_substitution}\"\n",
    ")\n",
    "chain3 = LLMChain(\n",
    "    llm=llm, prompt=prompt3,\n",
    "    output_key=\"nutritional_description_after_substitution\",\n",
    "    # verbose=True\n",
    ")"
   ]
  },
  {
   "attachments": {},
   "cell_type": "markdown",
   "metadata": {},
   "source": [
    "#### 全体"
   ]
  },
  {
   "cell_type": "code",
   "execution_count": 12,
   "metadata": {},
   "outputs": [],
   "source": [
    "overall_chain = SequentialChain(\n",
    "    chains=[chain1, chain2, chain3],\n",
    "    input_variables=[\"Recipe\"],\n",
    "    output_variables=[\n",
    "        \"nutritional_description\",\n",
    "        \"food_substitution\",\n",
    "        \"nutritional_description_after_substitution\"\n",
    "    ],\n",
    "    verbose=True\n",
    ")"
   ]
  },
  {
   "cell_type": "code",
   "execution_count": 13,
   "metadata": {},
   "outputs": [],
   "source": [
    "recipe = \"\"\"\\\n",
    "夏野菜のパスタ\n",
    "\n",
    "必要な材料:\n",
    "\n",
    "スパゲッティ - 200g\n",
    "ナス - 1個\n",
    "トマト - 2個\n",
    "オリーブオイル - 大さじ3\n",
    "ニンニク - 1片\n",
    "塩 - 少々\n",
    "黒コショウ - 少々\n",
    "バジル - 適量\n",
    "パルメザンチーズ - 適量\n",
    "調理手順:\n",
    "\n",
    "ナスは皮をむき、1cm厚さの輪切りにする。トマトは1cm厚さの輪切りにする。\n",
    "フライパンにオリーブオイルを熱し、みじん切りにしたニンニクを炒める。\n",
    "ニンニクが香ばしくなったら、ナスを加えて両面が焼けるまで炒め続ける。\n",
    "ナスが柔らかくなったら、トマトを加えてさらに炒める。塩と黒コショウで味を調える。\n",
    "一方で、スパゲッティをパッケージの指示通りに茹でる。茹で上がったらザルに上げて水気を切り、フライパンのナスとトマトに加える。\n",
    "全体をよく混ぜ合わせ、最後にバジルをちぎって加える。パルメザンチーズをお好みでかけて完成です。\n",
    "これは、7月の旬の食材を生かした、シンプルだけど味わい深いパスタ料理です。是非お試しください。\n",
    "\"\"\""
   ]
  },
  {
   "cell_type": "code",
   "execution_count": 14,
   "metadata": {},
   "outputs": [
    {
     "name": "stdout",
     "output_type": "stream",
     "text": [
      "\n",
      "\n",
      "\u001b[1m> Entering new  chain...\u001b[0m\n",
      "\n",
      "\u001b[1m> Finished chain.\u001b[0m\n"
     ]
    },
    {
     "data": {
      "text/plain": [
       "{'Recipe': '夏野菜のパスタ\\n\\n必要な材料:\\n\\nスパゲッティ - 200g\\nナス - 1個\\nトマト - 2個\\nオリーブオイル - 大さじ3\\nニンニク - 1片\\n塩 - 少々\\n黒コショウ - 少々\\nバジル - 適量\\nパルメザンチーズ - 適量\\n調理手順:\\n\\nナスは皮をむき、1cm厚さの輪切りにする。トマトは1cm厚さの輪切りにする。\\nフライパンにオリーブオイルを熱し、みじん切りにしたニンニクを炒める。\\nニンニクが香ばしくなったら、ナスを加えて両面が焼けるまで炒め続ける。\\nナスが柔らかくなったら、トマトを加えてさらに炒める。塩と黒コショウで味を調える。\\n一方で、スパゲッティをパッケージの指示通りに茹でる。茹で上がったらザルに上げて水気を切り、フライパンのナスとトマトに加える。\\n全体をよく混ぜ合わせ、最後にバジルをちぎって加える。パルメザンチーズをお好みでかけて完成です。\\nこれは、7月の旬の食材を生かした、シンプルだけど味わい深いパスタ料理です。是非お試しください。\\n',\n",
       " 'nutritional_description': 'この夏野菜のパスタは、栄養バランスが良いと言えます。スパゲッティからは炭水化物が摂取できます。ナスには食物繊維やビタミンC、カリウムが豊富に含まれており、トマトにはリコピンやビタミンC、ビタミンAが豊富に含まれています。オリーブオイルには健康に良い不飽和脂肪酸が含まれており、バジルにはビタミンKやカルシウムが含まれています。また、パルメザンチーズからはたんぱく質やカルシウムが摂取できます。全体的にバランスの良い食材で構成されており、栄養素をバランスよく摂取することができます。ただし、塩やオリーブオイルの使用量には注意が必要です。適量を守りながら、バランスの良い食事を心掛けましょう。',\n",
       " 'food_substitution': '以下は夏野菜のパスタの材料の代替可能な食材の例です：\\n\\n- スパゲッティ: 他の種類のパスタ（ペンネ、フェットチーネ、リングイネなど）でも代用可能です。\\n- ナス: ズッキーニやパプリカなどの夏野菜で代用できます。\\n- トマト: チェリートマトやプラムトマトなど、他の種類のトマトでも代用可能です。\\n- オリーブオイル: 他の植物油（サラダ油、ひまわり油、コーン油など）でも代用可能です。\\n- ニンニク: ニンニクパウダーまたはニンニクの風味がある調味料（ニンニクペースト、ニンニクソース）でも代用可能です。\\n- 塩: 塩の代わりに醤油や魚醤を使用することもできますが、味の変化に注意が必要です。\\n- 黒コショウ: 白コショウや赤コショウでも代用可能です。\\n- バジル: パセリ、コリアンダー、オレガノなどのハーブで代用できます。\\n- パルメザンチーズ: 他の硬質チーズ（ペコリーノ、ロマーノ、グラナパダーノ）でも代用可能です。また、非乳製品のチーズの代替品（ナッツチーズ、豆腐チーズ）も使用できます。\\n\\nこれらの代替食材を使用して、自分の好みや食材の入手可能性に合わせてレシピをアレンジしてみてください。',\n",
       " 'nutritional_description_after_substitution': '夏野菜のパスタは、栄養バランスが良いと言えます。スパゲッティからは炭水化物が摂取できます。ナスには食物繊維やビタミンC、カリウムが豊富に含まれており、トマトにはリコピンやビタミンC、ビタミンAが豊富に含まれています。オリーブオイルには健康に良い不飽和脂肪酸が含まれており、バジルにはビタミンKやカルシウムが含まれています。また、パルメザンチーズからはたんぱく質やカルシウムが摂取できます。全体的にバランスの良い食材で構成されており、栄養素をバランスよく摂取することができます。ただし、塩やオリーブオイルの使用量には注意が必要です。適量を守りながら、バランスの良い食事を心掛けましょう。\\n\\n代替食材の例として、スパゲッティは他の種類のパスタ（ペンネ、フェットチーネ、リングイネなど）でも代用可能です。ナスはズッキーニやパプリカなどの夏野菜で代用できます。トマトはチェリートマトやプラムトマトなど、他の種類のトマトでも代用可能です。オリーブオイルは他の植物油（サラダ油、ひまわり油、コーン油など）でも代用可能です。ニンニクはニンニクパウダーまたはニンニクの風味がある調味料（ニンニクペースト、ニンニクソース）でも代用可能です。塩は塩の代わりに醤油や魚醤を使用することもできますが、味の変化に注意が必要です。黒コショウは白コショウや赤コショウでも代用可能です。バジルはパセリ、コリアンダー、オレガノなどのハーブで代用できます。パルメザンチーズは他の硬質チーズ（ペコリーノ、ロマーノ、グラナパダーノ）でも代用可能です。また、非乳製品のチーズの代替品（ナッツチーズ、豆腐チーズ）も使用できます。\\n\\nこれらの代替食材を使用して、自分の好みや食材の入手可能性に合わせてレシピをアレンジしてみてください。'}"
      ]
     },
     "execution_count": 14,
     "metadata": {},
     "output_type": "execute_result"
    }
   ],
   "source": [
    "overall_chain(recipe)"
   ]
  }
 ],
 "metadata": {
  "kernelspec": {
   "display_name": ".venv",
   "language": "python",
   "name": "python3"
  },
  "language_info": {
   "codemirror_mode": {
    "name": "ipython",
    "version": 3
   },
   "file_extension": ".py",
   "mimetype": "text/x-python",
   "name": "python",
   "nbconvert_exporter": "python",
   "pygments_lexer": "ipython3",
   "version": "3.10.1"
  },
  "orig_nbformat": 4
 },
 "nbformat": 4,
 "nbformat_minor": 2
}
