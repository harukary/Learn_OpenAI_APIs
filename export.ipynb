{
 "cells": [
  {
   "cell_type": "code",
   "execution_count": 8,
   "metadata": {},
   "outputs": [],
   "source": [
    "# !pip install nbconvert"
   ]
  },
  {
   "cell_type": "code",
   "execution_count": 1,
   "metadata": {},
   "outputs": [],
   "source": [
    "from nbconvert import MarkdownExporter\n",
    "\n",
    "IPYNB_FILE_PATH = '/home/harukary/workspace/Learn_OpenAI_APIs/LangChain2/01_document_loading.ipynb'\n",
    "\n",
    "markdown_exporter = MarkdownExporter()\n",
    "md = markdown_exporter.from_filename(IPYNB_FILE_PATH)"
   ]
  },
  {
   "cell_type": "code",
   "execution_count": 2,
   "metadata": {},
   "outputs": [],
   "source": [
    "file = IPYNB_FILE_PATH.split('/')[-1]\n",
    "with open('output_md/'+file+'.md','w',encoding='utf_8_sig') as f:\n",
    "    f.write(md[0])\n",
    "# print(md[0])"
   ]
  },
  {
   "cell_type": "code",
   "execution_count": null,
   "metadata": {},
   "outputs": [],
   "source": [
    "# # !jupyter nbconvert --to markdown {IPYNB_FILE_PATH}\n",
    "# !mkdir outputs\n",
    "# !pandoc {IPYNB_FILE_PATH} -s --extract-media=outputs -t gfm"
   ]
  },
  {
   "cell_type": "code",
   "execution_count": 1,
   "metadata": {},
   "outputs": [],
   "source": [
    "# import json\n",
    "# with open('mini_project/googlemaps/googlemaps_and_folium.ipynb','r',encoding='utf_8_sig') as f:\n",
    "#     data = json.load(f)"
   ]
  },
  {
   "cell_type": "code",
   "execution_count": 3,
   "metadata": {},
   "outputs": [],
   "source": [
    "# data.keys()"
   ]
  },
  {
   "cell_type": "code",
   "execution_count": 5,
   "metadata": {},
   "outputs": [],
   "source": [
    "# all_output_type = set([o.keys() for c in data['cells'] for o in c['outputs']])"
   ]
  },
  {
   "cell_type": "code",
   "execution_count": null,
   "metadata": {},
   "outputs": [],
   "source": [
    "# md = ''\n",
    "# for cell in data['cells']:\n",
    "#     if cell['cell_type'] == 'markdown':\n",
    "#         md += cell['source'] + '\\n'\n",
    "#     elif cell['cell_type'] == 'code':\n",
    "#         md += '```python\\n'\n",
    "#         md += cell['source']\n",
    "#         md += '\\n```\\n'\n",
    "#         for output in cell['outputs']:\n",
    "#             if 'data' in output:\n",
    "#                 for k,v in output['data']:\n"
   ]
  },
  {
   "cell_type": "code",
   "execution_count": 4,
   "metadata": {},
   "outputs": [],
   "source": [
    "# import os\n",
    "# import nbformat\n",
    "# from nbconvert import MarkdownExporter\n",
    "# from nbconvert.writers import FilesWriter\n",
    "\n",
    "# def convert_notebook_to_markdown(input_file_path, output_dir_path):\n",
    "#     # Load the notebook\n",
    "#     with open(input_file_path, 'r') as f:\n",
    "#         notebook = nbformat.read(f, as_version=4)\n",
    "\n",
    "#     # Convert to markdown\n",
    "#     markdown_exporter = MarkdownExporter()\n",
    "#     markdown_exporter.config['ExtractOutputPreprocessor'].enabled = True\n",
    "#     markdown_exporter.config['ExtractOutputPreprocessor'].output_filename_template = '{unique_key}_{cell_index}_{index}{extension}'\n",
    "\n",
    "#     markdown_data, resources = markdown_exporter.from_notebook_node(notebook)\n",
    "\n",
    "#     # Write markdown file\n",
    "#     file_writer = FilesWriter(build_directory=output_dir_path)\n",
    "#     file_writer.write(markdown_data, resources, notebook_name='notebook')\n",
    "\n",
    "# # Usage:\n",
    "# input_file_path = \"mini_project/googlemaps/googlemaps_and_folium.ipynb\"\n",
    "# output_dir_path = \"outputs\"\n",
    "# convert_notebook_to_markdown(input_file_path, output_dir_path)\n"
   ]
  }
 ],
 "metadata": {
  "kernelspec": {
   "display_name": ".venv",
   "language": "python",
   "name": "python3"
  },
  "language_info": {
   "codemirror_mode": {
    "name": "ipython",
    "version": 3
   },
   "file_extension": ".py",
   "mimetype": "text/x-python",
   "name": "python",
   "nbconvert_exporter": "python",
   "pygments_lexer": "ipython3",
   "version": "3.10.1"
  },
  "orig_nbformat": 4
 },
 "nbformat": 4,
 "nbformat_minor": 2
}
