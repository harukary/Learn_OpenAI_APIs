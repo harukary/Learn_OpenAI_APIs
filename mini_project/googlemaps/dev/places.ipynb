{
 "cells": [
  {
   "cell_type": "code",
   "execution_count": 1,
   "metadata": {},
   "outputs": [],
   "source": [
    "from dotenv import find_dotenv,load_dotenv; _=load_dotenv(find_dotenv())"
   ]
  },
  {
   "cell_type": "code",
   "execution_count": 2,
   "metadata": {},
   "outputs": [],
   "source": [
    "import json, os\n",
    "from langchain import LLMMathChain, SerpAPIWrapper\n",
    "from langchain.agents import AgentType, initialize_agent\n",
    "from langchain.chat_models import ChatOpenAI\n",
    "from langchain.tools import BaseTool, StructuredTool, Tool, tool\n",
    "from pydantic import BaseModel, Field\n",
    "from typing import Union, Any, Optional, Type\n",
    "from enum import Enum\n",
    "import googlemaps; gmaps = googlemaps.Client(key=os.environ['GOOGLE_MAPS_API_KEY'])"
   ]
  },
  {
   "cell_type": "code",
   "execution_count": 19,
   "metadata": {},
   "outputs": [],
   "source": [
    "# gmaps.reverse_geocode(\n",
    "#     latlng={\"latitude\": \"35.1796\",\"longitude\": \"136.9166\"},\n",
    "#     language='ja'\n",
    "# )"
   ]
  },
  {
   "cell_type": "code",
   "execution_count": 3,
   "metadata": {},
   "outputs": [
    {
     "name": "stdout",
     "output_type": "stream",
     "text": [
      "{\n",
      "  \"latitude\": \"35.1796\",\n",
      "  \"longitude\": \"136.9166\"\n",
      "}\n"
     ]
    }
   ],
   "source": [
    "import requests\n",
    "def get_current_location():\n",
    "    geo_request_url = 'https://get.geojs.io/v1/ip/geo.json'\n",
    "    data = requests.get(geo_request_url).json()\n",
    "    return {\n",
    "        'latitude': data['latitude'],\n",
    "        'longitude': data['longitude'],\n",
    "    }\n",
    "print(json.dumps(get_current_location(),indent=2,ensure_ascii=False))\n",
    "\n",
    "get_current_location_tool_description = \"\"\"\\\n",
    "You can get current location with no input.\n",
    "\"\"\"\n",
    "\n",
    "get_current_location_tool = StructuredTool.from_function(\n",
    "    func = get_current_location,\n",
    "    # name='CurrentLocationGetter',\n",
    "    description=get_current_location_tool_description,\n",
    ")"
   ]
  },
  {
   "cell_type": "code",
   "execution_count": 4,
   "metadata": {},
   "outputs": [],
   "source": [
    "def simplified_place_dict(res):\n",
    "    r = res[0]\n",
    "    return {\n",
    "        'address': r['formatted_address'],\n",
    "        'location': r['geometry']['location'],\n",
    "        'types': r['types']\n",
    "    }\n",
    "\n",
    "def find_place_with_text_func(query: str):\n",
    "    places_result = gmaps.find_place(query,input_type='textquery')\n",
    "    geocode_results = [\n",
    "        gmaps.geocode(place_id=r['place_id'])\n",
    "        for r in places_result['candidates']\n",
    "    ]\n",
    "    # print(json.dumps(geocode_results,indent=2,ensure_ascii=False))\n",
    "    return [simplified_place_dict(r) for r in geocode_results]\n",
    "# print(find_place_with_text_func(query='ガスト港東通店'))\n",
    "find_place_tool_description = \"\"\"\\\n",
    "A Find Place request takes a text input, and returns a place.\n",
    "The text input can be any kind of Places data, for example,\n",
    "a name, address, or phone number.\n",
    "\"\"\"\n",
    "\n",
    "find_place_tool = Tool.from_function(\n",
    "    func = find_place_with_text_func,\n",
    "    name='PlaceSearch',\n",
    "    description=find_place_tool_description,\n",
    ")"
   ]
  },
  {
   "cell_type": "code",
   "execution_count": 5,
   "metadata": {},
   "outputs": [
    {
     "name": "stdout",
     "output_type": "stream",
     "text": [
      "[]\n"
     ]
    }
   ],
   "source": [
    "class Mode(Enum):\n",
    "    DRIVING = \"driving\"\n",
    "    WALKING = \"walking\"\n",
    "    BYCYCLING = \"bicycling\"\n",
    "    TRANSIT = \"transit\"\n",
    "\n",
    "class DirectionsInput(BaseModel):\n",
    "    # origin: Union[str,Any] = Field(\n",
    "    origin: Union[str,dict] = Field(\n",
    "        description='The address in string or latitude/longitude in dict from which you wish to calculate directions.'\n",
    "    )\n",
    "    # destination: Union[str,Any] = Field(\n",
    "    destination: Union[str,dict] = Field(\n",
    "        description='The address in string or latitude/longitude in dict from which you wish to calculate directions.'\n",
    "    )\n",
    "    mode: Mode = Field(\n",
    "        description='Specifies the mode of transport to use when calculating directions.'\n",
    "    )\n",
    "    # departure_time: Optional[int] = Field(\n",
    "    #     description='Specifies the desired time of departure. Note: you can't specify both departure_time and arrival_time.'\n",
    "    # )\n",
    "    # arrival_time: Optional[int] = Field(\n",
    "    #     description='Specifies the desired time of arrival for transit directions. Note: you can't specify both departure_time and arrival_time.'\n",
    "    # )\n",
    "\n",
    "def simplified_directions_dict(res):\n",
    "    r = res['legs'][0]\n",
    "    return {\n",
    "        'arrival_time': r['arrival_time']['text'] if 'arrival_time' in r.keys() else None,\n",
    "        'departure_time': r['departure_time']['text'] if 'departure_time' in r.keys() else None,\n",
    "        'distance': r['distance']['text'] if 'distance' in r.keys() else None,\n",
    "        'duration': r['duration']['text'] if 'duration' in r.keys() else None,\n",
    "    }\n",
    "\n",
    "def get_direction_func(params: DirectionsInput):\n",
    "    places_result = gmaps.directions_result = gmaps.directions(\n",
    "        origin=params.origin,\n",
    "        destination=params.destination,\n",
    "        mode=params.mode.value,\n",
    "    )\n",
    "    # print(json.dumps(geocode_results,indent=2,ensure_ascii=False))\n",
    "    return [simplified_directions_dict(r) for r in places_result]\n",
    "print(find_place_with_text_func(\n",
    "    query=DirectionsInput(\n",
    "        # origin='エスターテ南青山',\n",
    "        # destination='ガスト港東通店',\n",
    "        origin={'latitude': '35.1796', 'longitude': '136.9166'},\n",
    "        destination={'latitude': '35.091708', 'longitude': '136.916568'},\n",
    "        mode='walking'\n",
    "    )\n",
    "))\n",
    "directions_tool_description = \"\"\"\\\n",
    "Get directions between an origin point and a destination point.\n",
    "\"\"\"\n",
    "\n",
    "# get_direction_tool = Tool.from_function(\n",
    "#     func = get_direction_func,\n",
    "#     name='Directions',\n",
    "#     description=directions_tool_description,\n",
    "# )\n",
    "\n",
    "class DirectionsTool(BaseTool):\n",
    "    name = \"Directions\"\n",
    "    description = directions_tool_description\n",
    "    args_schema: Type[DirectionsInput] = DirectionsInput\n",
    "\n",
    "    def _run(self, origin, destination, mode):\n",
    "        places_result = gmaps.directions_result = gmaps.directions(\n",
    "            origin=origin,\n",
    "            destination=destination,\n",
    "            mode=mode.value,\n",
    "        )\n",
    "        # print(json.dumps(geocode_results,indent=2,ensure_ascii=False))\n",
    "        return [simplified_directions_dict(r) for r in places_result]\n",
    "\n",
    "    async def _arun(self, origin, destination, mode):\n",
    "        return self._run(origin, destination, mode)\n",
    "\n",
    "get_direction_tool = DirectionsTool()"
   ]
  },
  {
   "cell_type": "code",
   "execution_count": 6,
   "metadata": {},
   "outputs": [],
   "source": [
    "llm = ChatOpenAI(temperature=0)"
   ]
  },
  {
   "cell_type": "code",
   "execution_count": 45,
   "metadata": {},
   "outputs": [],
   "source": [
    "from langchain.prompts import MessagesPlaceholder\n",
    "from langchain.memory import ConversationBufferMemory\n",
    "agent_kwargs = {\n",
    "    \"extra_prompt_messages\": [MessagesPlaceholder(variable_name=\"memory\")],\n",
    "}\n",
    "\n",
    "memory = ConversationBufferMemory(memory_key=\"memory\", return_messages=True)"
   ]
  },
  {
   "cell_type": "code",
   "execution_count": 46,
   "metadata": {},
   "outputs": [],
   "source": [
    "tools = [\n",
    "    get_current_location_tool,\n",
    "    find_place_tool,\n",
    "    get_direction_tool\n",
    "]\n",
    "agent = initialize_agent(\n",
    "    tools, llm, agent=AgentType.OPENAI_FUNCTIONS,\n",
    "    memory=memory, agent_kwargs=agent_kwargs,\n",
    "    verbose=True\n",
    ")"
   ]
  },
  {
   "cell_type": "code",
   "execution_count": 47,
   "metadata": {},
   "outputs": [
    {
     "name": "stdout",
     "output_type": "stream",
     "text": [
      "\n",
      "\n",
      "\u001b[1m> Entering new AgentExecutor chain...\u001b[0m\n",
      "\u001b[32;1m\u001b[1;3m\n",
      "Invoking: `PlaceSearch` with `ガスト 名古屋駅`\n",
      "\n",
      "\n",
      "\u001b[0m\u001b[33;1m\u001b[1;3m[{'address': 'Japan, 〒453-0811 愛知県名古屋市中村区太閤通６丁目５９', 'location': {'lat': 35.1682704, 'lng': 136.8629945}, 'types': ['establishment', 'food', 'meal_delivery', 'meal_takeaway', 'point_of_interest', 'restaurant']}]\u001b[0m\u001b[32;1m\u001b[1;3m名古屋駅に一番近いガストは、愛知県名古屋市中村区太閤通６丁目５９にあります。\u001b[0m\n",
      "\n",
      "\u001b[1m> Finished chain.\u001b[0m\n"
     ]
    },
    {
     "data": {
      "text/plain": [
       "'名古屋駅に一番近いガストは、愛知県名古屋市中村区太閤通６丁目５９にあります。'"
      ]
     },
     "execution_count": 47,
     "metadata": {},
     "output_type": "execute_result"
    }
   ],
   "source": [
    "input_text = '名古屋駅に一番近いガストを教えて'\n",
    "agent.run(input_text)"
   ]
  },
  {
   "cell_type": "code",
   "execution_count": 48,
   "metadata": {},
   "outputs": [
    {
     "name": "stdout",
     "output_type": "stream",
     "text": [
      "\n",
      "\n",
      "\u001b[1m> Entering new AgentExecutor chain...\u001b[0m\n",
      "\u001b[32;1m\u001b[1;3m\n",
      "Invoking: `Directions` with `{'origin': '名古屋駅', 'destination': '愛知県名古屋市中村区太閤通６丁目５９', 'mode': 'walking'}`\n",
      "\n",
      "\n",
      "\u001b[0m\u001b[38;5;200m\u001b[1;3m[{'arrival_time': None, 'departure_time': None, 'distance': '1.8 km', 'duration': '24 mins'}]\u001b[0m\u001b[32;1m\u001b[1;3m名古屋駅からそのガストまで徒歩で約24分かかります。\u001b[0m\n",
      "\n",
      "\u001b[1m> Finished chain.\u001b[0m\n"
     ]
    },
    {
     "data": {
      "text/plain": [
       "'名古屋駅からそのガストまで徒歩で約24分かかります。'"
      ]
     },
     "execution_count": 48,
     "metadata": {},
     "output_type": "execute_result"
    }
   ],
   "source": [
    "input_text = '名古屋駅からそのガストまで徒歩何分？'\n",
    "# input_text = 'エスターテ南青山から愛知県名古屋市南区港東通１丁目２４まで徒歩何分ですか？'\n",
    "agent.run(input_text)"
   ]
  },
  {
   "cell_type": "code",
   "execution_count": 49,
   "metadata": {},
   "outputs": [
    {
     "name": "stdout",
     "output_type": "stream",
     "text": [
      "{\n",
      "  \"chat_memory\": {\n",
      "    \"messages\": [\n",
      "      {\n",
      "        \"content\": \"名古屋駅に一番近いガストを教えて\",\n",
      "        \"additional_kwargs\": {},\n",
      "        \"example\": false\n",
      "      },\n",
      "      {\n",
      "        \"content\": \"名古屋駅に一番近いガストは、愛知県名古屋市中村区太閤通６丁目５９にあります。\",\n",
      "        \"additional_kwargs\": {},\n",
      "        \"example\": false\n",
      "      },\n",
      "      {\n",
      "        \"content\": \"名古屋駅からそのガストまで徒歩何分？\",\n",
      "        \"additional_kwargs\": {},\n",
      "        \"example\": false\n",
      "      },\n",
      "      {\n",
      "        \"content\": \"名古屋駅からそのガストまで徒歩で約24分かかります。\",\n",
      "        \"additional_kwargs\": {},\n",
      "        \"example\": false\n",
      "      }\n",
      "    ]\n",
      "  },\n",
      "  \"output_key\": null,\n",
      "  \"input_key\": null,\n",
      "  \"return_messages\": true,\n",
      "  \"human_prefix\": \"Human\",\n",
      "  \"ai_prefix\": \"AI\",\n",
      "  \"memory_key\": \"memory\"\n",
      "}\n"
     ]
    }
   ],
   "source": [
    "print(agent.memory.json(indent=2,ensure_ascii=False))"
   ]
  }
 ],
 "metadata": {
  "kernelspec": {
   "display_name": ".venv",
   "language": "python",
   "name": "python3"
  },
  "language_info": {
   "codemirror_mode": {
    "name": "ipython",
    "version": 3
   },
   "file_extension": ".py",
   "mimetype": "text/x-python",
   "name": "python",
   "nbconvert_exporter": "python",
   "pygments_lexer": "ipython3",
   "version": "3.10.1"
  },
  "orig_nbformat": 4
 },
 "nbformat": 4,
 "nbformat_minor": 2
}
