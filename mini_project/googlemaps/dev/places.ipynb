{
 "cells": [
  {
   "cell_type": "code",
   "execution_count": 1,
   "metadata": {},
   "outputs": [],
   "source": [
    "from dotenv import find_dotenv,load_dotenv; _=load_dotenv(find_dotenv())"
   ]
  },
  {
   "cell_type": "code",
   "execution_count": 2,
   "metadata": {},
   "outputs": [],
   "source": [
    "import json, os\n",
    "from langchain import LLMMathChain, SerpAPIWrapper\n",
    "from langchain.agents import AgentType, initialize_agent\n",
    "from langchain.chat_models import ChatOpenAI\n",
    "from langchain.tools import BaseTool, StructuredTool, Tool, tool\n",
    "from pydantic import BaseModel, Field\n",
    "from typing import Union, Any, Optional, Type\n",
    "from enum import Enum\n",
    "import googlemaps; gmaps = googlemaps.Client(key=os.environ['GOOGLE_MAPS_API_KEY'])"
   ]
  },
  {
   "cell_type": "code",
   "execution_count": 3,
   "metadata": {},
   "outputs": [],
   "source": [
    "# gmaps.reverse_geocode(\n",
    "#     latlng={\"latitude\": \"35.1796\",\"longitude\": \"136.9166\"},\n",
    "#     language='ja'\n",
    "# )"
   ]
  },
  {
   "cell_type": "code",
   "execution_count": 4,
   "metadata": {},
   "outputs": [
    {
     "name": "stdout",
     "output_type": "stream",
     "text": [
      "{\n",
      "  \"latitude\": \"35.1796\",\n",
      "  \"longitude\": \"136.9166\"\n",
      "}\n"
     ]
    }
   ],
   "source": [
    "import requests\n",
    "def get_current_location():\n",
    "    geo_request_url = 'https://get.geojs.io/v1/ip/geo.json'\n",
    "    data = requests.get(geo_request_url).json()\n",
    "    return {\n",
    "        'latitude': data['latitude'],\n",
    "        'longitude': data['longitude'],\n",
    "    }\n",
    "print(json.dumps(get_current_location(),indent=2,ensure_ascii=False))\n",
    "\n",
    "get_current_location_tool_description = \"\"\"\\\n",
    "You can get current location with no input.\n",
    "\"\"\"\n",
    "\n",
    "get_current_location_tool = StructuredTool.from_function(\n",
    "    func = get_current_location,\n",
    "    # name='CurrentLocationGetter',\n",
    "    description=get_current_location_tool_description,\n",
    ")"
   ]
  },
  {
   "cell_type": "code",
   "execution_count": 5,
   "metadata": {},
   "outputs": [],
   "source": [
    "def simplified_place_dict(res):\n",
    "    r = res[0]\n",
    "    return {\n",
    "        'address': r['formatted_address'],\n",
    "        'location': r['geometry']['location'],\n",
    "        'types': r['types']\n",
    "    }\n",
    "\n",
    "def find_place_with_text_func(query: str):\n",
    "    places_result = gmaps.find_place(query,input_type='textquery')\n",
    "    geocode_results = [\n",
    "        gmaps.geocode(place_id=r['place_id'])\n",
    "        for r in places_result['candidates']\n",
    "    ]\n",
    "    # print(json.dumps(geocode_results,indent=2,ensure_ascii=False))\n",
    "    return [simplified_place_dict(r) for r in geocode_results]\n",
    "# print(find_place_with_text_func(query='ガスト港東通店'))\n",
    "find_place_tool_description = \"\"\"\\\n",
    "A Find Place request takes a text input, and returns a place.\n",
    "The text input can be any kind of Places data, for example,\n",
    "a name, address, or phone number.\n",
    "\"\"\"\n",
    "\n",
    "find_place_tool = Tool.from_function(\n",
    "    func = find_place_with_text_func,\n",
    "    name='PlaceSearch',\n",
    "    description=find_place_tool_description,\n",
    ")"
   ]
  },
  {
   "cell_type": "code",
   "execution_count": 42,
   "metadata": {},
   "outputs": [
    {
     "name": "stdout",
     "output_type": "stream",
     "text": [
      "[{'arrival_time': '1:34\\u202fAM', 'departure_time': '12:54\\u202fAM', 'distance': '6.6 km', 'duration': '40 mins', 'steps': [{'distance': '0.4 km', 'duration': '5 mins', 'travel_mode': 'WALKING', 'instruction': 'Walk to The Tower Of London (Stop TA)', 'transit_details': None}, {'distance': '3.5 km', 'duration': '12 mins', 'travel_mode': 'TRANSIT', 'instruction': 'Bus towards Charing Cross', 'transit_details': {'arrival_stop': {'location': {'lat': 51.5107429, 'lng': -0.1204931}, 'name': 'Savoy Street (Stop U)'}, 'departure_stop': {'location': {'lat': 51.5095849, 'lng': -0.07552729999999999}, 'name': 'The Tower Of London (Stop TA)'}}}, {'distance': '2.0 km', 'duration': '9 mins', 'travel_mode': 'TRANSIT', 'instruction': 'Bus towards Westbourne Park', 'transit_details': {'arrival_stop': {'location': {'lat': 51.5066405, 'lng': -0.1428872}, 'name': 'Green Park'}, 'departure_stop': {'location': {'lat': 51.5107429, 'lng': -0.1204931}, 'name': 'Savoy Street (Stop U)'}}}, {'distance': '0.7 km', 'duration': '9 mins', 'travel_mode': 'WALKING', 'instruction': 'Walk to London SW1A 1AA, UK', 'transit_details': None}]}]\n"
     ]
    }
   ],
   "source": [
    "class Mode(Enum):\n",
    "    DRIVING = \"driving\"\n",
    "    WALKING = \"walking\"\n",
    "    BYCYCLING = \"bicycling\"\n",
    "    TRANSIT = \"transit\"\n",
    "\n",
    "class DirectionsInput(BaseModel):\n",
    "    # origin: Union[str,Any] = Field(\n",
    "    origin: Union[str,dict] = Field(\n",
    "        description='The address in string or latitude/longitude in dict from which you wish to calculate directions.'\n",
    "    )\n",
    "    # destination: Union[str,Any] = Field(\n",
    "    destination: Union[str,dict] = Field(\n",
    "        description='The address in string or latitude/longitude in dict from which you wish to calculate directions.'\n",
    "    )\n",
    "    mode: Mode = Field(\n",
    "        description='Specifies the mode of transport to use when calculating directions.'\n",
    "    )\n",
    "    # departure_time: Optional[int] = Field(\n",
    "    #     description='Specifies the desired time of departure. Note: you can't specify both departure_time and arrival_time.'\n",
    "    # )\n",
    "    # arrival_time: Optional[int] = Field(\n",
    "    #     description='Specifies the desired time of arrival for transit directions. Note: you can't specify both departure_time and arrival_time.'\n",
    "    # )\n",
    "\n",
    "def simplified_directions_dict(res):\n",
    "    r = res['legs'][0]\n",
    "    return {\n",
    "        'arrival_time': r['arrival_time']['text'] if 'arrival_time' in r.keys() else None,\n",
    "        'departure_time': r['departure_time']['text'] if 'departure_time' in r.keys() else None,\n",
    "        'distance': r['distance']['text'] if 'distance' in r.keys() else None,\n",
    "        'duration': r['duration']['text'] if 'duration' in r.keys() else None,\n",
    "        'steps': [\n",
    "            {\n",
    "                'distance': s['distance']['text'],\n",
    "                'duration': s['duration']['text'],\n",
    "                'travel_mode': s['travel_mode'],\n",
    "                \"instruction\": s['html_instructions'],\n",
    "                'transit_details': {\n",
    "                    'arrival_stop': s['transit_details']['arrival_stop'],\n",
    "                    'departure_stop': s['transit_details']['departure_stop'],\n",
    "\n",
    "                } if 'transit_details' in s.keys() else None\n",
    "            }\n",
    "            for s in r['steps']\n",
    "        ]\n",
    "    }\n",
    "\n",
    "def get_direction_func(params: DirectionsInput):\n",
    "    places_result = gmaps.directions_result = gmaps.directions(\n",
    "        origin=params.origin,\n",
    "        destination=params.destination,\n",
    "        mode=params.mode.value,\n",
    "    )\n",
    "    # print(json.dumps(geocode_results,indent=2,ensure_ascii=False))\n",
    "    return [simplified_directions_dict(r) for r in places_result]\n",
    "\n",
    "directions_tool_description = \"\"\"\\\n",
    "Get directions between an origin point and a destination point.\n",
    "\"\"\"\n",
    "\n",
    "# get_direction_tool = Tool.from_function(\n",
    "#     func = get_direction_func,\n",
    "#     name='Directions',\n",
    "#     description=directions_tool_description,\n",
    "# )\n",
    "\n",
    "class DirectionsTool(BaseTool):\n",
    "    name = \"Directions\"\n",
    "    description = directions_tool_description\n",
    "    args_schema: Type[DirectionsInput] = DirectionsInput\n",
    "\n",
    "    def _run(self, origin, destination, mode):\n",
    "        print(mode.value)\n",
    "        places_result = gmaps.directions_result = gmaps.directions(\n",
    "            origin=origin,\n",
    "            destination=destination,\n",
    "            mode=mode.value,\n",
    "        )\n",
    "        # print(json.dumps(geocode_results,indent=2,ensure_ascii=False))\n",
    "        return [simplified_directions_dict(r) for r in places_result]\n",
    "\n",
    "    async def _arun(self, origin, destination, mode):\n",
    "        return self._run(origin, destination, mode)\n",
    "\n",
    "get_direction_tool = DirectionsTool()\n",
    "\n",
    "print(get_direction_func(\n",
    "    params=DirectionsInput(\n",
    "        origin='Tower of London',\n",
    "        destination='Backingum Palace',\n",
    "        # origin={'latitude': '35.1796', 'longitude': '136.9166'},\n",
    "        # destination={'latitude': '35.091708', 'longitude': '136.916568'},\n",
    "        mode='transit'\n",
    "    )\n",
    "))"
   ]
  },
  {
   "cell_type": "code",
   "execution_count": 26,
   "metadata": {},
   "outputs": [],
   "source": [
    "llm = ChatOpenAI(temperature=0)"
   ]
  },
  {
   "cell_type": "code",
   "execution_count": 43,
   "metadata": {},
   "outputs": [],
   "source": [
    "from langchain.prompts import MessagesPlaceholder\n",
    "from langchain.memory import ConversationBufferMemory\n",
    "agent_kwargs = {\n",
    "    \"extra_prompt_messages\": [MessagesPlaceholder(variable_name=\"memory\")],\n",
    "}\n",
    "memory = ConversationBufferMemory(memory_key=\"memory\", return_messages=True)"
   ]
  },
  {
   "cell_type": "code",
   "execution_count": 44,
   "metadata": {},
   "outputs": [],
   "source": [
    "tools = [\n",
    "    get_current_location_tool,\n",
    "    find_place_tool,\n",
    "    get_direction_tool\n",
    "]\n",
    "agent = initialize_agent(\n",
    "    tools, llm, agent=AgentType.OPENAI_FUNCTIONS,\n",
    "    memory=memory, agent_kwargs=agent_kwargs,\n",
    "    verbose=True\n",
    ")"
   ]
  },
  {
   "cell_type": "code",
   "execution_count": 40,
   "metadata": {},
   "outputs": [
    {
     "name": "stdout",
     "output_type": "stream",
     "text": [
      "\n",
      "\n",
      "\u001b[1m> Entering new AgentExecutor chain...\u001b[0m\n",
      "\u001b[32;1m\u001b[1;3m\n",
      "Invoking: `PlaceSearch` with `Tower of London`\n",
      "\n",
      "\n",
      "\u001b[0m\u001b[33;1m\u001b[1;3m[{'address': '4-chōme-23-9 Meieki, Nakamura Ward, Nagoya, Aichi 450-0002, Japan', 'location': {'lat': 35.168371, 'lng': 136.889019}, 'types': ['bar', 'establishment', 'food', 'point_of_interest', 'restaurant']}, {'address': 'London EC3N 4AB, UK', 'location': {'lat': 51.50811239999999, 'lng': -0.0759493}, 'types': ['establishment', 'landmark', 'point_of_interest', 'tourist_attraction']}]\u001b[0m\u001b[32;1m\u001b[1;3mTower of Londonは、イギリスのロンドンにあります。正確な住所は、London EC3N 4AB, UKです。\u001b[0m\n",
      "\n",
      "\u001b[1m> Finished chain.\u001b[0m\n"
     ]
    },
    {
     "data": {
      "text/plain": [
       "'Tower of Londonは、イギリスのロンドンにあります。正確な住所は、London EC3N 4AB, UKです。'"
      ]
     },
     "execution_count": 40,
     "metadata": {},
     "output_type": "execute_result"
    }
   ],
   "source": [
    "input_text = 'Tower of Londonはどこにありますか？'\n",
    "agent.run(input_text)"
   ]
  },
  {
   "cell_type": "code",
   "execution_count": 46,
   "metadata": {},
   "outputs": [
    {
     "name": "stdout",
     "output_type": "stream",
     "text": [
      "\n",
      "\n",
      "\u001b[1m> Entering new AgentExecutor chain...\u001b[0m\n",
      "\u001b[32;1m\u001b[1;3m\n",
      "Invoking: `PlaceSearch` with `タワーオブロンドン`\n",
      "\n",
      "\n",
      "\u001b[0m\u001b[33;1m\u001b[1;3m[{'address': '4-chōme-23-9 Meieki, Nakamura Ward, Nagoya, Aichi 450-0002, Japan', 'location': {'lat': 35.168371, 'lng': 136.889019}, 'types': ['bar', 'establishment', 'food', 'point_of_interest', 'restaurant']}]\u001b[0m\u001b[32;1m\u001b[1;3mタワーオブロンドンは、日本の愛知県名古屋市中村区名駅4丁目23-9にあります。\u001b[0m\n",
      "\n",
      "\u001b[1m> Finished chain.\u001b[0m\n"
     ]
    },
    {
     "data": {
      "text/plain": [
       "'タワーオブロンドンは、日本の愛知県名古屋市中村区名駅4丁目23-9にあります。'"
      ]
     },
     "execution_count": 46,
     "metadata": {},
     "output_type": "execute_result"
    }
   ],
   "source": [
    "input_text = 'タワーオブロンドンはどこにありますか？'\n",
    "# input_text = 'エスターテ南青山から愛知県名古屋市南区港東通１丁目２４まで徒歩何分ですか？'\n",
    "agent.run(input_text)"
   ]
  },
  {
   "cell_type": "code",
   "execution_count": 24,
   "metadata": {},
   "outputs": [
    {
     "name": "stdout",
     "output_type": "stream",
     "text": [
      "{\n",
      "  \"chat_memory\": {\n",
      "    \"messages\": [\n",
      "      {\n",
      "        \"content\": \"名古屋駅に一番近いガストを教えて\",\n",
      "        \"additional_kwargs\": {},\n",
      "        \"example\": false\n",
      "      },\n",
      "      {\n",
      "        \"content\": \"名古屋駅に一番近いガストは、愛知県名古屋市中村区太閤通６丁目５９にあります。\",\n",
      "        \"additional_kwargs\": {},\n",
      "        \"example\": false\n",
      "      },\n",
      "      {\n",
      "        \"content\": \"名古屋駅からそのガストまで何分？\",\n",
      "        \"additional_kwargs\": {},\n",
      "        \"example\": false\n",
      "      },\n",
      "      {\n",
      "        \"content\": \"申し訳ありませんが、現在の交通手段に関する情報が取得できませんでした。お手数ですが、別の方法でアクセス時間を調べていただくか、近くの交通機関の情報をご確認ください。\",\n",
      "        \"additional_kwargs\": {},\n",
      "        \"example\": false\n",
      "      }\n",
      "    ]\n",
      "  },\n",
      "  \"output_key\": null,\n",
      "  \"input_key\": null,\n",
      "  \"return_messages\": true,\n",
      "  \"human_prefix\": \"Human\",\n",
      "  \"ai_prefix\": \"AI\",\n",
      "  \"memory_key\": \"memory\"\n",
      "}\n"
     ]
    }
   ],
   "source": [
    "print(agent.memory.json(indent=2,ensure_ascii=False))"
   ]
  }
 ],
 "metadata": {
  "kernelspec": {
   "display_name": ".venv",
   "language": "python",
   "name": "python3"
  },
  "language_info": {
   "codemirror_mode": {
    "name": "ipython",
    "version": 3
   },
   "file_extension": ".py",
   "mimetype": "text/x-python",
   "name": "python",
   "nbconvert_exporter": "python",
   "pygments_lexer": "ipython3",
   "version": "3.10.1"
  },
  "orig_nbformat": 4
 },
 "nbformat": 4,
 "nbformat_minor": 2
}
