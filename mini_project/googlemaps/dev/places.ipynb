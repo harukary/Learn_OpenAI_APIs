{
 "cells": [
  {
   "cell_type": "code",
   "execution_count": 71,
   "metadata": {},
   "outputs": [],
   "source": [
    "from dotenv import find_dotenv,load_dotenv; _=load_dotenv(find_dotenv())"
   ]
  },
  {
   "cell_type": "code",
   "execution_count": 72,
   "metadata": {},
   "outputs": [],
   "source": [
    "import json, os\n",
    "from langchain import LLMMathChain, SerpAPIWrapper\n",
    "from langchain.agents import AgentType, initialize_agent\n",
    "from langchain.chat_models import ChatOpenAI\n",
    "from langchain.tools import BaseTool, StructuredTool, Tool, tool\n",
    "from pydantic import BaseModel, Field\n",
    "from typing import Union, Any, Optional\n",
    "from enum import Enum\n",
    "import googlemaps; gmaps = googlemaps.Client(key=os.environ['GOOGLE_MAPS_API_KEY'])"
   ]
  },
  {
   "cell_type": "code",
   "execution_count": 73,
   "metadata": {},
   "outputs": [
    {
     "name": "stdout",
     "output_type": "stream",
     "text": [
      "{\n",
      "  \"latitude\": \"35.1796\",\n",
      "  \"longitude\": \"136.9166\"\n",
      "}\n"
     ]
    }
   ],
   "source": [
    "import requests\n",
    "def get_current_location():\n",
    "    geo_request_url = 'https://get.geojs.io/v1/ip/geo.json'\n",
    "    data = requests.get(geo_request_url).json()\n",
    "    return {\n",
    "        'latitude': data['latitude'],\n",
    "        'longitude': data['longitude'],\n",
    "    }\n",
    "print(json.dumps(get_current_location(),indent=2,ensure_ascii=False))\n",
    "\n",
    "get_current_location_tool_description = \"\"\"\\\n",
    "You can get current location with no input.\n",
    "\"\"\"\n",
    "\n",
    "get_current_location_tool = StructuredTool.from_function(\n",
    "    func = get_current_location,\n",
    "    # name='CurrentLocationGetter',\n",
    "    description=get_current_location_tool_description,\n",
    ")"
   ]
  },
  {
   "cell_type": "code",
   "execution_count": 74,
   "metadata": {},
   "outputs": [],
   "source": [
    "def simplified_place_dict(res):\n",
    "    r = res[0]\n",
    "    return {\n",
    "        'address': r['formatted_address'],\n",
    "        'location': r['geometry']['location'],\n",
    "        'types': r['types']\n",
    "    }\n",
    "\n",
    "def find_place_with_text_func(query: str):\n",
    "    places_result = gmaps.find_place(query,input_type='textquery')\n",
    "    geocode_results = [\n",
    "        gmaps.geocode(place_id=r['place_id'])\n",
    "        for r in places_result['candidates']\n",
    "    ]\n",
    "    # print(json.dumps(geocode_results,indent=2,ensure_ascii=False))\n",
    "    return [simplified_place_dict(r) for r in geocode_results]\n",
    "# print(find_place_with_text_func(query='ガスト港東通店'))\n",
    "find_place_tool_description = \"\"\"\\\n",
    "A Find Place request takes a text input, and returns a place.\n",
    "The text input can be any kind of Places data, for example,\n",
    "a name, address, or phone number.\n",
    "\"\"\"\n",
    "\n",
    "find_place_tool = Tool.from_function(\n",
    "    func = find_place_with_text_func,\n",
    "    name='PlaceSearch',\n",
    "    description=find_place_tool_description,\n",
    ")"
   ]
  },
  {
   "cell_type": "code",
   "execution_count": 85,
   "metadata": {},
   "outputs": [
    {
     "ename": "ValidationError",
     "evalue": "1 validation error for Tool\ninput_schema\n  extra fields not permitted (type=value_error.extra)",
     "output_type": "error",
     "traceback": [
      "\u001b[0;31m---------------------------------------------------------------------------\u001b[0m",
      "\u001b[0;31mValidationError\u001b[0m                           Traceback (most recent call last)",
      "Cell \u001b[0;32mIn[85], line 54\u001b[0m\n\u001b[1;32m     44\u001b[0m \u001b[39m# print(find_place_with_text_func(\u001b[39;00m\n\u001b[1;32m     45\u001b[0m \u001b[39m#     query=DirectionsInput(\u001b[39;00m\n\u001b[1;32m     46\u001b[0m \u001b[39m#     origin='エスターテ南青山',\u001b[39;00m\n\u001b[1;32m     47\u001b[0m \u001b[39m#     destination='ガスト港東通店',\u001b[39;00m\n\u001b[1;32m     48\u001b[0m \u001b[39m#     mode='walking')\u001b[39;00m\n\u001b[1;32m     49\u001b[0m \u001b[39m# ))\u001b[39;00m\n\u001b[1;32m     50\u001b[0m directions_tool_description \u001b[39m=\u001b[39m \u001b[39m\"\"\"\u001b[39m\u001b[39m\\\u001b[39;00m\n\u001b[1;32m     51\u001b[0m \u001b[39mGet directions between an origin point and a destination point.\u001b[39m\n\u001b[1;32m     52\u001b[0m \u001b[39m\"\"\"\u001b[39m\n\u001b[0;32m---> 54\u001b[0m get_direction_tool \u001b[39m=\u001b[39m Tool\u001b[39m.\u001b[39;49mfrom_function(\n\u001b[1;32m     55\u001b[0m     func \u001b[39m=\u001b[39;49m get_direction_func,\n\u001b[1;32m     56\u001b[0m     name\u001b[39m=\u001b[39;49m\u001b[39m'\u001b[39;49m\u001b[39mDirections\u001b[39;49m\u001b[39m'\u001b[39;49m,\n\u001b[1;32m     57\u001b[0m     description\u001b[39m=\u001b[39;49mdirections_tool_description,\n\u001b[1;32m     58\u001b[0m     input_schema\u001b[39m=\u001b[39;49mDirectionsInput\n\u001b[1;32m     59\u001b[0m )\n",
      "File \u001b[0;32m~/workspace/Learn_OpenAI_APIs/.venv/lib/python3.10/site-packages/langchain/tools/base.py:495\u001b[0m, in \u001b[0;36mTool.from_function\u001b[0;34m(cls, func, name, description, return_direct, args_schema, **kwargs)\u001b[0m\n\u001b[1;32m    484\u001b[0m \u001b[39m@classmethod\u001b[39m\n\u001b[1;32m    485\u001b[0m \u001b[39mdef\u001b[39;00m \u001b[39mfrom_function\u001b[39m(\n\u001b[1;32m    486\u001b[0m     \u001b[39mcls\u001b[39m,\n\u001b[0;32m   (...)\u001b[0m\n\u001b[1;32m    492\u001b[0m     \u001b[39m*\u001b[39m\u001b[39m*\u001b[39mkwargs: Any,\n\u001b[1;32m    493\u001b[0m ) \u001b[39m-\u001b[39m\u001b[39m>\u001b[39m Tool:\n\u001b[1;32m    494\u001b[0m \u001b[39m    \u001b[39m\u001b[39m\"\"\"Initialize tool from a function.\"\"\"\u001b[39;00m\n\u001b[0;32m--> 495\u001b[0m     \u001b[39mreturn\u001b[39;00m \u001b[39mcls\u001b[39;49m(\n\u001b[1;32m    496\u001b[0m         name\u001b[39m=\u001b[39;49mname,\n\u001b[1;32m    497\u001b[0m         func\u001b[39m=\u001b[39;49mfunc,\n\u001b[1;32m    498\u001b[0m         description\u001b[39m=\u001b[39;49mdescription,\n\u001b[1;32m    499\u001b[0m         return_direct\u001b[39m=\u001b[39;49mreturn_direct,\n\u001b[1;32m    500\u001b[0m         args_schema\u001b[39m=\u001b[39;49margs_schema,\n\u001b[1;32m    501\u001b[0m         \u001b[39m*\u001b[39;49m\u001b[39m*\u001b[39;49mkwargs,\n\u001b[1;32m    502\u001b[0m     )\n",
      "File \u001b[0;32m~/workspace/Learn_OpenAI_APIs/.venv/lib/python3.10/site-packages/langchain/tools/base.py:480\u001b[0m, in \u001b[0;36mTool.__init__\u001b[0;34m(self, name, func, description, **kwargs)\u001b[0m\n\u001b[1;32m    476\u001b[0m \u001b[39mdef\u001b[39;00m \u001b[39m__init__\u001b[39m(\n\u001b[1;32m    477\u001b[0m     \u001b[39mself\u001b[39m, name: \u001b[39mstr\u001b[39m, func: Callable, description: \u001b[39mstr\u001b[39m, \u001b[39m*\u001b[39m\u001b[39m*\u001b[39mkwargs: Any\n\u001b[1;32m    478\u001b[0m ) \u001b[39m-\u001b[39m\u001b[39m>\u001b[39m \u001b[39mNone\u001b[39;00m:\n\u001b[1;32m    479\u001b[0m \u001b[39m    \u001b[39m\u001b[39m\"\"\"Initialize tool.\"\"\"\u001b[39;00m\n\u001b[0;32m--> 480\u001b[0m     \u001b[39msuper\u001b[39;49m(Tool, \u001b[39mself\u001b[39;49m)\u001b[39m.\u001b[39;49m\u001b[39m__init__\u001b[39;49m(\n\u001b[1;32m    481\u001b[0m         name\u001b[39m=\u001b[39;49mname, func\u001b[39m=\u001b[39;49mfunc, description\u001b[39m=\u001b[39;49mdescription, \u001b[39m*\u001b[39;49m\u001b[39m*\u001b[39;49mkwargs\n\u001b[1;32m    482\u001b[0m     )\n",
      "File \u001b[0;32m~/workspace/Learn_OpenAI_APIs/.venv/lib/python3.10/site-packages/pydantic/main.py:341\u001b[0m, in \u001b[0;36mpydantic.main.BaseModel.__init__\u001b[0;34m()\u001b[0m\n",
      "\u001b[0;31mValidationError\u001b[0m: 1 validation error for Tool\ninput_schema\n  extra fields not permitted (type=value_error.extra)"
     ]
    }
   ],
   "source": [
    "class Mode(Enum):\n",
    "    DRIVING = \"driving\"\n",
    "    WALKING = \"walking\"\n",
    "    BYCYCLING = \"bicycling\"\n",
    "    TRANSIT = \"transit\"\n",
    "\n",
    "class DirectionsInput(BaseModel):\n",
    "    # origin: Union[str,Any] = Field(\n",
    "    origin: str = Field(\n",
    "        description='The address or latitude/longitude value from which you wish to calculate directions.'\n",
    "    )\n",
    "    # destination: Union[str,Any] = Field(\n",
    "    destination: str = Field(\n",
    "        description='The address or latitude/longitude value from which you wish to calculate directions.'\n",
    "    )\n",
    "    mode: Mode = Field(\n",
    "        description='Specifies the mode of transport to use when calculating directions.'\n",
    "    )\n",
    "    # departure_time: Optional[int] = Field(\n",
    "    #     description='Specifies the desired time of departure. Note: you can't specify both departure_time and arrival_time.'\n",
    "    # )\n",
    "    # arrival_time: Optional[int] = Field(\n",
    "    #     description='Specifies the desired time of arrival for transit directions. Note: you can't specify both departure_time and arrival_time.'\n",
    "    # )\n",
    "\n",
    "\n",
    "def simplified_directions_dict(res):\n",
    "    r = res['legs'][0]\n",
    "    return {\n",
    "        'arrival_time': r['arrival_time']['text'],\n",
    "        'departure_time': r['departure_time']['text'],\n",
    "        'distance': r['distance']['text'],\n",
    "        'duration': r['duration']['text'],\n",
    "    }\n",
    "\n",
    "def get_direction_func(params: DirectionsInput):\n",
    "    places_result = gmaps.directions_result = gmaps.directions(\n",
    "        origin=params.origin,\n",
    "        destination=params.destination,\n",
    "        mode=params.mode.value,\n",
    "    )\n",
    "    # print(json.dumps(geocode_results,indent=2,ensure_ascii=False))\n",
    "    return [simplified_directions_dict(r) for r in places_result]\n",
    "# print(find_place_with_text_func(\n",
    "#     query=DirectionsInput(\n",
    "#     origin='エスターテ南青山',\n",
    "#     destination='ガスト港東通店',\n",
    "#     mode='walking')\n",
    "# ))\n",
    "directions_tool_description = \"\"\"\\\n",
    "Get directions between an origin point and a destination point.\n",
    "\"\"\"\n",
    "\n",
    "get_direction_tool = Tool.from_function(\n",
    "    func = get_direction_func,\n",
    "    name='Directions',\n",
    "    description=directions_tool_description,\n",
    ")"
   ]
  },
  {
   "cell_type": "code",
   "execution_count": 76,
   "metadata": {},
   "outputs": [],
   "source": [
    "llm = ChatOpenAI(temperature=0)"
   ]
  },
  {
   "cell_type": "code",
   "execution_count": 77,
   "metadata": {},
   "outputs": [],
   "source": [
    "tools = [\n",
    "    get_current_location_tool,\n",
    "    find_place_tool,\n",
    "    get_direction_tool\n",
    "]"
   ]
  },
  {
   "cell_type": "code",
   "execution_count": 78,
   "metadata": {},
   "outputs": [],
   "source": [
    "agent = initialize_agent(\n",
    "    tools, llm, agent=AgentType.OPENAI_FUNCTIONS, verbose=True\n",
    ")"
   ]
  },
  {
   "cell_type": "code",
   "execution_count": 79,
   "metadata": {},
   "outputs": [
    {
     "name": "stdout",
     "output_type": "stream",
     "text": [
      "\n",
      "\n",
      "\u001b[1m> Entering new AgentExecutor chain...\u001b[0m\n",
      "\u001b[32;1m\u001b[1;3m\n",
      "Invoking: `get_current_location` with `{}`\n",
      "\n",
      "\n",
      "\u001b[0m\u001b[36;1m\u001b[1;3m{'latitude': '35.1796', 'longitude': '136.9166'}\u001b[0m\u001b[32;1m\u001b[1;3m\n",
      "Invoking: `PlaceSearch` with `ガスト`\n",
      "\n",
      "\n",
      "\u001b[0m\u001b[33;1m\u001b[1;3m[{'address': 'Japan, 〒457-0834 愛知県名古屋市南区港東通１丁目２４', 'location': {'lat': 35.091708, 'lng': 136.916568}, 'types': ['establishment', 'food', 'meal_delivery', 'meal_takeaway', 'point_of_interest', 'restaurant']}]\u001b[0m\u001b[32;1m\u001b[1;3m近くにあるガストは、愛知県名古屋市南区港東通１丁目２４にあります。\u001b[0m\n",
      "\n",
      "\u001b[1m> Finished chain.\u001b[0m\n"
     ]
    },
    {
     "data": {
      "text/plain": [
       "'近くにあるガストは、愛知県名古屋市南区港東通１丁目２４にあります。'"
      ]
     },
     "execution_count": 79,
     "metadata": {},
     "output_type": "execute_result"
    }
   ],
   "source": [
    "input_text = '近くのガストを教えて'\n",
    "agent.run(input_text)"
   ]
  },
  {
   "cell_type": "code",
   "execution_count": 80,
   "metadata": {},
   "outputs": [
    {
     "name": "stdout",
     "output_type": "stream",
     "text": [
      "\n",
      "\n",
      "\u001b[1m> Entering new AgentExecutor chain...\u001b[0m\n",
      "\u001b[32;1m\u001b[1;3m\n",
      "Invoking: `get_current_location` with `{}`\n",
      "\n",
      "\n",
      "\u001b[0m\u001b[36;1m\u001b[1;3m{'latitude': '35.1796', 'longitude': '136.9166'}\u001b[0m\u001b[32;1m\u001b[1;3m\n",
      "Invoking: `PlaceSearch` with `ガスト`\n",
      "\n",
      "\n",
      "\u001b[0m\u001b[33;1m\u001b[1;3m[{'address': 'Japan, 〒457-0834 愛知県名古屋市南区港東通１丁目２４', 'location': {'lat': 35.091708, 'lng': 136.916568}, 'types': ['establishment', 'food', 'meal_delivery', 'meal_takeaway', 'point_of_interest', 'restaurant']}]\u001b[0m\u001b[32;1m\u001b[1;3m\n",
      "Invoking: `Directions` with `35.1796,136.9166|35.091708,136.916568`\n",
      "\n",
      "\n",
      "\u001b[0m"
     ]
    },
    {
     "ename": "AttributeError",
     "evalue": "'str' object has no attribute 'origin'",
     "output_type": "error",
     "traceback": [
      "\u001b[0;31m---------------------------------------------------------------------------\u001b[0m",
      "\u001b[0;31mAttributeError\u001b[0m                            Traceback (most recent call last)",
      "Cell \u001b[0;32mIn[80], line 2\u001b[0m\n\u001b[1;32m      1\u001b[0m input_text \u001b[39m=\u001b[39m \u001b[39m'\u001b[39m\u001b[39m近くのガストまで徒歩で何分？\u001b[39m\u001b[39m'\u001b[39m\n\u001b[0;32m----> 2\u001b[0m agent\u001b[39m.\u001b[39;49mrun(input_text)\n",
      "File \u001b[0;32m~/workspace/Learn_OpenAI_APIs/.venv/lib/python3.10/site-packages/langchain/chains/base.py:440\u001b[0m, in \u001b[0;36mChain.run\u001b[0;34m(self, callbacks, tags, metadata, *args, **kwargs)\u001b[0m\n\u001b[1;32m    438\u001b[0m     \u001b[39mif\u001b[39;00m \u001b[39mlen\u001b[39m(args) \u001b[39m!=\u001b[39m \u001b[39m1\u001b[39m:\n\u001b[1;32m    439\u001b[0m         \u001b[39mraise\u001b[39;00m \u001b[39mValueError\u001b[39;00m(\u001b[39m\"\u001b[39m\u001b[39m`run` supports only one positional argument.\u001b[39m\u001b[39m\"\u001b[39m)\n\u001b[0;32m--> 440\u001b[0m     \u001b[39mreturn\u001b[39;00m \u001b[39mself\u001b[39;49m(args[\u001b[39m0\u001b[39;49m], callbacks\u001b[39m=\u001b[39;49mcallbacks, tags\u001b[39m=\u001b[39;49mtags, metadata\u001b[39m=\u001b[39;49mmetadata)[\n\u001b[1;32m    441\u001b[0m         _output_key\n\u001b[1;32m    442\u001b[0m     ]\n\u001b[1;32m    444\u001b[0m \u001b[39mif\u001b[39;00m kwargs \u001b[39mand\u001b[39;00m \u001b[39mnot\u001b[39;00m args:\n\u001b[1;32m    445\u001b[0m     \u001b[39mreturn\u001b[39;00m \u001b[39mself\u001b[39m(kwargs, callbacks\u001b[39m=\u001b[39mcallbacks, tags\u001b[39m=\u001b[39mtags, metadata\u001b[39m=\u001b[39mmetadata)[\n\u001b[1;32m    446\u001b[0m         _output_key\n\u001b[1;32m    447\u001b[0m     ]\n",
      "File \u001b[0;32m~/workspace/Learn_OpenAI_APIs/.venv/lib/python3.10/site-packages/langchain/chains/base.py:243\u001b[0m, in \u001b[0;36mChain.__call__\u001b[0;34m(self, inputs, return_only_outputs, callbacks, tags, metadata, include_run_info)\u001b[0m\n\u001b[1;32m    241\u001b[0m \u001b[39mexcept\u001b[39;00m (\u001b[39mKeyboardInterrupt\u001b[39;00m, \u001b[39mException\u001b[39;00m) \u001b[39mas\u001b[39;00m e:\n\u001b[1;32m    242\u001b[0m     run_manager\u001b[39m.\u001b[39mon_chain_error(e)\n\u001b[0;32m--> 243\u001b[0m     \u001b[39mraise\u001b[39;00m e\n\u001b[1;32m    244\u001b[0m run_manager\u001b[39m.\u001b[39mon_chain_end(outputs)\n\u001b[1;32m    245\u001b[0m final_outputs: Dict[\u001b[39mstr\u001b[39m, Any] \u001b[39m=\u001b[39m \u001b[39mself\u001b[39m\u001b[39m.\u001b[39mprep_outputs(\n\u001b[1;32m    246\u001b[0m     inputs, outputs, return_only_outputs\n\u001b[1;32m    247\u001b[0m )\n",
      "File \u001b[0;32m~/workspace/Learn_OpenAI_APIs/.venv/lib/python3.10/site-packages/langchain/chains/base.py:237\u001b[0m, in \u001b[0;36mChain.__call__\u001b[0;34m(self, inputs, return_only_outputs, callbacks, tags, metadata, include_run_info)\u001b[0m\n\u001b[1;32m    231\u001b[0m run_manager \u001b[39m=\u001b[39m callback_manager\u001b[39m.\u001b[39mon_chain_start(\n\u001b[1;32m    232\u001b[0m     dumpd(\u001b[39mself\u001b[39m),\n\u001b[1;32m    233\u001b[0m     inputs,\n\u001b[1;32m    234\u001b[0m )\n\u001b[1;32m    235\u001b[0m \u001b[39mtry\u001b[39;00m:\n\u001b[1;32m    236\u001b[0m     outputs \u001b[39m=\u001b[39m (\n\u001b[0;32m--> 237\u001b[0m         \u001b[39mself\u001b[39;49m\u001b[39m.\u001b[39;49m_call(inputs, run_manager\u001b[39m=\u001b[39;49mrun_manager)\n\u001b[1;32m    238\u001b[0m         \u001b[39mif\u001b[39;00m new_arg_supported\n\u001b[1;32m    239\u001b[0m         \u001b[39melse\u001b[39;00m \u001b[39mself\u001b[39m\u001b[39m.\u001b[39m_call(inputs)\n\u001b[1;32m    240\u001b[0m     )\n\u001b[1;32m    241\u001b[0m \u001b[39mexcept\u001b[39;00m (\u001b[39mKeyboardInterrupt\u001b[39;00m, \u001b[39mException\u001b[39;00m) \u001b[39mas\u001b[39;00m e:\n\u001b[1;32m    242\u001b[0m     run_manager\u001b[39m.\u001b[39mon_chain_error(e)\n",
      "File \u001b[0;32m~/workspace/Learn_OpenAI_APIs/.venv/lib/python3.10/site-packages/langchain/agents/agent.py:994\u001b[0m, in \u001b[0;36mAgentExecutor._call\u001b[0;34m(self, inputs, run_manager)\u001b[0m\n\u001b[1;32m    992\u001b[0m \u001b[39m# We now enter the agent loop (until it returns something).\u001b[39;00m\n\u001b[1;32m    993\u001b[0m \u001b[39mwhile\u001b[39;00m \u001b[39mself\u001b[39m\u001b[39m.\u001b[39m_should_continue(iterations, time_elapsed):\n\u001b[0;32m--> 994\u001b[0m     next_step_output \u001b[39m=\u001b[39m \u001b[39mself\u001b[39;49m\u001b[39m.\u001b[39;49m_take_next_step(\n\u001b[1;32m    995\u001b[0m         name_to_tool_map,\n\u001b[1;32m    996\u001b[0m         color_mapping,\n\u001b[1;32m    997\u001b[0m         inputs,\n\u001b[1;32m    998\u001b[0m         intermediate_steps,\n\u001b[1;32m    999\u001b[0m         run_manager\u001b[39m=\u001b[39;49mrun_manager,\n\u001b[1;32m   1000\u001b[0m     )\n\u001b[1;32m   1001\u001b[0m     \u001b[39mif\u001b[39;00m \u001b[39misinstance\u001b[39m(next_step_output, AgentFinish):\n\u001b[1;32m   1002\u001b[0m         \u001b[39mreturn\u001b[39;00m \u001b[39mself\u001b[39m\u001b[39m.\u001b[39m_return(\n\u001b[1;32m   1003\u001b[0m             next_step_output, intermediate_steps, run_manager\u001b[39m=\u001b[39mrun_manager\n\u001b[1;32m   1004\u001b[0m         )\n",
      "File \u001b[0;32m~/workspace/Learn_OpenAI_APIs/.venv/lib/python3.10/site-packages/langchain/agents/agent.py:855\u001b[0m, in \u001b[0;36mAgentExecutor._take_next_step\u001b[0;34m(self, name_to_tool_map, color_mapping, inputs, intermediate_steps, run_manager)\u001b[0m\n\u001b[1;32m    853\u001b[0m         tool_run_kwargs[\u001b[39m\"\u001b[39m\u001b[39mllm_prefix\u001b[39m\u001b[39m\"\u001b[39m] \u001b[39m=\u001b[39m \u001b[39m\"\u001b[39m\u001b[39m\"\u001b[39m\n\u001b[1;32m    854\u001b[0m     \u001b[39m# We then call the tool on the tool input to get an observation\u001b[39;00m\n\u001b[0;32m--> 855\u001b[0m     observation \u001b[39m=\u001b[39m tool\u001b[39m.\u001b[39;49mrun(\n\u001b[1;32m    856\u001b[0m         agent_action\u001b[39m.\u001b[39;49mtool_input,\n\u001b[1;32m    857\u001b[0m         verbose\u001b[39m=\u001b[39;49m\u001b[39mself\u001b[39;49m\u001b[39m.\u001b[39;49mverbose,\n\u001b[1;32m    858\u001b[0m         color\u001b[39m=\u001b[39;49mcolor,\n\u001b[1;32m    859\u001b[0m         callbacks\u001b[39m=\u001b[39;49mrun_manager\u001b[39m.\u001b[39;49mget_child() \u001b[39mif\u001b[39;49;00m run_manager \u001b[39melse\u001b[39;49;00m \u001b[39mNone\u001b[39;49;00m,\n\u001b[1;32m    860\u001b[0m         \u001b[39m*\u001b[39;49m\u001b[39m*\u001b[39;49mtool_run_kwargs,\n\u001b[1;32m    861\u001b[0m     )\n\u001b[1;32m    862\u001b[0m \u001b[39melse\u001b[39;00m:\n\u001b[1;32m    863\u001b[0m     tool_run_kwargs \u001b[39m=\u001b[39m \u001b[39mself\u001b[39m\u001b[39m.\u001b[39magent\u001b[39m.\u001b[39mtool_run_logging_kwargs()\n",
      "File \u001b[0;32m~/workspace/Learn_OpenAI_APIs/.venv/lib/python3.10/site-packages/langchain/tools/base.py:320\u001b[0m, in \u001b[0;36mBaseTool.run\u001b[0;34m(self, tool_input, verbose, start_color, color, callbacks, tags, metadata, **kwargs)\u001b[0m\n\u001b[1;32m    318\u001b[0m \u001b[39mexcept\u001b[39;00m (\u001b[39mException\u001b[39;00m, \u001b[39mKeyboardInterrupt\u001b[39;00m) \u001b[39mas\u001b[39;00m e:\n\u001b[1;32m    319\u001b[0m     run_manager\u001b[39m.\u001b[39mon_tool_error(e)\n\u001b[0;32m--> 320\u001b[0m     \u001b[39mraise\u001b[39;00m e\n\u001b[1;32m    321\u001b[0m \u001b[39melse\u001b[39;00m:\n\u001b[1;32m    322\u001b[0m     run_manager\u001b[39m.\u001b[39mon_tool_end(\n\u001b[1;32m    323\u001b[0m         \u001b[39mstr\u001b[39m(observation), color\u001b[39m=\u001b[39mcolor, name\u001b[39m=\u001b[39m\u001b[39mself\u001b[39m\u001b[39m.\u001b[39mname, \u001b[39m*\u001b[39m\u001b[39m*\u001b[39mkwargs\n\u001b[1;32m    324\u001b[0m     )\n",
      "File \u001b[0;32m~/workspace/Learn_OpenAI_APIs/.venv/lib/python3.10/site-packages/langchain/tools/base.py:292\u001b[0m, in \u001b[0;36mBaseTool.run\u001b[0;34m(self, tool_input, verbose, start_color, color, callbacks, tags, metadata, **kwargs)\u001b[0m\n\u001b[1;32m    289\u001b[0m \u001b[39mtry\u001b[39;00m:\n\u001b[1;32m    290\u001b[0m     tool_args, tool_kwargs \u001b[39m=\u001b[39m \u001b[39mself\u001b[39m\u001b[39m.\u001b[39m_to_args_and_kwargs(parsed_input)\n\u001b[1;32m    291\u001b[0m     observation \u001b[39m=\u001b[39m (\n\u001b[0;32m--> 292\u001b[0m         \u001b[39mself\u001b[39;49m\u001b[39m.\u001b[39;49m_run(\u001b[39m*\u001b[39;49mtool_args, run_manager\u001b[39m=\u001b[39;49mrun_manager, \u001b[39m*\u001b[39;49m\u001b[39m*\u001b[39;49mtool_kwargs)\n\u001b[1;32m    293\u001b[0m         \u001b[39mif\u001b[39;00m new_arg_supported\n\u001b[1;32m    294\u001b[0m         \u001b[39melse\u001b[39;00m \u001b[39mself\u001b[39m\u001b[39m.\u001b[39m_run(\u001b[39m*\u001b[39mtool_args, \u001b[39m*\u001b[39m\u001b[39m*\u001b[39mtool_kwargs)\n\u001b[1;32m    295\u001b[0m     )\n\u001b[1;32m    296\u001b[0m \u001b[39mexcept\u001b[39;00m ToolException \u001b[39mas\u001b[39;00m e:\n\u001b[1;32m    297\u001b[0m     \u001b[39mif\u001b[39;00m \u001b[39mnot\u001b[39;00m \u001b[39mself\u001b[39m\u001b[39m.\u001b[39mhandle_tool_error:\n",
      "File \u001b[0;32m~/workspace/Learn_OpenAI_APIs/.venv/lib/python3.10/site-packages/langchain/tools/base.py:450\u001b[0m, in \u001b[0;36mTool._run\u001b[0;34m(self, run_manager, *args, **kwargs)\u001b[0m\n\u001b[1;32m    441\u001b[0m \u001b[39m\u001b[39m\u001b[39m\"\"\"Use the tool.\"\"\"\u001b[39;00m\n\u001b[1;32m    442\u001b[0m new_argument_supported \u001b[39m=\u001b[39m signature(\u001b[39mself\u001b[39m\u001b[39m.\u001b[39mfunc)\u001b[39m.\u001b[39mparameters\u001b[39m.\u001b[39mget(\u001b[39m\"\u001b[39m\u001b[39mcallbacks\u001b[39m\u001b[39m\"\u001b[39m)\n\u001b[1;32m    443\u001b[0m \u001b[39mreturn\u001b[39;00m (\n\u001b[1;32m    444\u001b[0m     \u001b[39mself\u001b[39m\u001b[39m.\u001b[39mfunc(\n\u001b[1;32m    445\u001b[0m         \u001b[39m*\u001b[39margs,\n\u001b[1;32m    446\u001b[0m         callbacks\u001b[39m=\u001b[39mrun_manager\u001b[39m.\u001b[39mget_child() \u001b[39mif\u001b[39;00m run_manager \u001b[39melse\u001b[39;00m \u001b[39mNone\u001b[39;00m,\n\u001b[1;32m    447\u001b[0m         \u001b[39m*\u001b[39m\u001b[39m*\u001b[39mkwargs,\n\u001b[1;32m    448\u001b[0m     )\n\u001b[1;32m    449\u001b[0m     \u001b[39mif\u001b[39;00m new_argument_supported\n\u001b[0;32m--> 450\u001b[0m     \u001b[39melse\u001b[39;00m \u001b[39mself\u001b[39;49m\u001b[39m.\u001b[39;49mfunc(\u001b[39m*\u001b[39;49margs, \u001b[39m*\u001b[39;49m\u001b[39m*\u001b[39;49mkwargs)\n\u001b[1;32m    451\u001b[0m )\n",
      "Cell \u001b[0;32mIn[75], line 38\u001b[0m, in \u001b[0;36mget_direction_func\u001b[0;34m(params)\u001b[0m\n\u001b[1;32m     36\u001b[0m \u001b[39mdef\u001b[39;00m \u001b[39mget_direction_func\u001b[39m(params: DirectionsInput):\n\u001b[1;32m     37\u001b[0m     places_result \u001b[39m=\u001b[39m gmaps\u001b[39m.\u001b[39mdirections_result \u001b[39m=\u001b[39m gmaps\u001b[39m.\u001b[39mdirections(\n\u001b[0;32m---> 38\u001b[0m         origin\u001b[39m=\u001b[39mparams\u001b[39m.\u001b[39;49morigin,\n\u001b[1;32m     39\u001b[0m         destination\u001b[39m=\u001b[39mparams\u001b[39m.\u001b[39mdestination,\n\u001b[1;32m     40\u001b[0m         mode\u001b[39m=\u001b[39mparams\u001b[39m.\u001b[39mmode\u001b[39m.\u001b[39mvalue,\n\u001b[1;32m     41\u001b[0m     )\n\u001b[1;32m     42\u001b[0m     \u001b[39m# print(json.dumps(geocode_results,indent=2,ensure_ascii=False))\u001b[39;00m\n\u001b[1;32m     43\u001b[0m     \u001b[39mreturn\u001b[39;00m [simplified_directions_dict(r) \u001b[39mfor\u001b[39;00m r \u001b[39min\u001b[39;00m places_result]\n",
      "\u001b[0;31mAttributeError\u001b[0m: 'str' object has no attribute 'origin'"
     ]
    }
   ],
   "source": [
    "input_text = '近くのガストまで徒歩で何分？'\n",
    "agent.run(input_text)"
   ]
  },
  {
   "cell_type": "code",
   "execution_count": 84,
   "metadata": {},
   "outputs": [
    {
     "ename": "ValidationError",
     "evalue": "1 validation error for StructuredTool\ninput_schema\n  extra fields not permitted (type=value_error.extra)",
     "output_type": "error",
     "traceback": [
      "\u001b[0;31m---------------------------------------------------------------------------\u001b[0m",
      "\u001b[0;31mValidationError\u001b[0m                           Traceback (most recent call last)",
      "Cell \u001b[0;32mIn[84], line 17\u001b[0m\n\u001b[1;32m     13\u001b[0m     \u001b[39mreturn\u001b[39;00m \u001b[39m'\u001b[39m\u001b[39mcomplete\u001b[39m\u001b[39m'\u001b[39m\n\u001b[1;32m     15\u001b[0m \u001b[39mfrom\u001b[39;00m \u001b[39mlangchain\u001b[39;00m\u001b[39m.\u001b[39;00m\u001b[39mtools\u001b[39;00m \u001b[39mimport\u001b[39;00m StructuredTool\n\u001b[0;32m---> 17\u001b[0m my_tool \u001b[39m=\u001b[39m StructuredTool\u001b[39m.\u001b[39;49mfrom_function(\n\u001b[1;32m     18\u001b[0m     name\u001b[39m=\u001b[39;49m\u001b[39m\"\u001b[39;49m\u001b[39mMy Tool\u001b[39;49m\u001b[39m\"\u001b[39;49m, \n\u001b[1;32m     19\u001b[0m     func\u001b[39m=\u001b[39;49mmy_tool_func,\n\u001b[1;32m     20\u001b[0m     input_schema\u001b[39m=\u001b[39;49mMyToolInput\n\u001b[1;32m     21\u001b[0m )\n\u001b[1;32m     23\u001b[0m agent \u001b[39m=\u001b[39m initialize_agent(\n\u001b[1;32m     24\u001b[0m     [my_tool], llm, agent\u001b[39m=\u001b[39mAgentType\u001b[39m.\u001b[39mOPENAI_FUNCTIONS, verbose\u001b[39m=\u001b[39m\u001b[39mTrue\u001b[39;00m\n\u001b[1;32m     25\u001b[0m )\n",
      "File \u001b[0;32m~/workspace/Learn_OpenAI_APIs/.venv/lib/python3.10/site-packages/langchain/tools/base.py:608\u001b[0m, in \u001b[0;36mStructuredTool.from_function\u001b[0;34m(cls, func, name, description, return_direct, args_schema, infer_schema, **kwargs)\u001b[0m\n\u001b[1;32m    606\u001b[0m \u001b[39mif\u001b[39;00m _args_schema \u001b[39mis\u001b[39;00m \u001b[39mNone\u001b[39;00m \u001b[39mand\u001b[39;00m infer_schema:\n\u001b[1;32m    607\u001b[0m     _args_schema \u001b[39m=\u001b[39m create_schema_from_function(\u001b[39mf\u001b[39m\u001b[39m\"\u001b[39m\u001b[39m{\u001b[39;00mname\u001b[39m}\u001b[39;00m\u001b[39mSchema\u001b[39m\u001b[39m\"\u001b[39m, func)\n\u001b[0;32m--> 608\u001b[0m \u001b[39mreturn\u001b[39;00m \u001b[39mcls\u001b[39;49m(\n\u001b[1;32m    609\u001b[0m     name\u001b[39m=\u001b[39;49mname,\n\u001b[1;32m    610\u001b[0m     func\u001b[39m=\u001b[39;49mfunc,\n\u001b[1;32m    611\u001b[0m     args_schema\u001b[39m=\u001b[39;49m_args_schema,\n\u001b[1;32m    612\u001b[0m     description\u001b[39m=\u001b[39;49mdescription,\n\u001b[1;32m    613\u001b[0m     return_direct\u001b[39m=\u001b[39;49mreturn_direct,\n\u001b[1;32m    614\u001b[0m     \u001b[39m*\u001b[39;49m\u001b[39m*\u001b[39;49mkwargs,\n\u001b[1;32m    615\u001b[0m )\n",
      "File \u001b[0;32m~/workspace/Learn_OpenAI_APIs/.venv/lib/python3.10/site-packages/pydantic/main.py:341\u001b[0m, in \u001b[0;36mpydantic.main.BaseModel.__init__\u001b[0;34m()\u001b[0m\n",
      "\u001b[0;31mValidationError\u001b[0m: 1 validation error for StructuredTool\ninput_schema\n  extra fields not permitted (type=value_error.extra)"
     ]
    }
   ],
   "source": [
    "from pydantic import BaseModel\n",
    "\n",
    "class MyToolInput(BaseModel):\n",
    "    var1: str\n",
    "    var2: int\n",
    "    var3: float\n",
    "\n",
    "def my_tool_func(input: MyToolInput):\n",
    "    '''\n",
    "    You should always use this func.\n",
    "    '''\n",
    "    # Do something with the input\n",
    "    return 'complete'\n",
    "\n",
    "from langchain.tools import StructuredTool\n",
    "\n",
    "my_tool = StructuredTool.from_function(\n",
    "    name=\"My Tool\", \n",
    "    func=my_tool_func,\n",
    "    input_schema=MyToolInput\n",
    ")\n",
    "\n",
    "agent = initialize_agent(\n",
    "    [my_tool], llm, agent=AgentType.OPENAI_FUNCTIONS, verbose=True\n",
    ")"
   ]
  }
 ],
 "metadata": {
  "kernelspec": {
   "display_name": ".venv",
   "language": "python",
   "name": "python3"
  },
  "language_info": {
   "codemirror_mode": {
    "name": "ipython",
    "version": 3
   },
   "file_extension": ".py",
   "mimetype": "text/x-python",
   "name": "python",
   "nbconvert_exporter": "python",
   "pygments_lexer": "ipython3",
   "version": "3.10.1"
  },
  "orig_nbformat": 4
 },
 "nbformat": 4,
 "nbformat_minor": 2
}
