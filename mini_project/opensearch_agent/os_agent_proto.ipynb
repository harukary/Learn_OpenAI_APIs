{
 "cells": [
  {
   "cell_type": "markdown",
   "metadata": {},
   "source": [
    "[Sample dataset: recipes](https://docs.aiven.io/docs/products/opensearch/howto/sample-dataset)"
   ]
  },
  {
   "cell_type": "code",
   "execution_count": 6,
   "metadata": {},
   "outputs": [],
   "source": [
    "# !pip install opensearch-py"
   ]
  },
  {
   "cell_type": "code",
   "execution_count": 5,
   "metadata": {},
   "outputs": [],
   "source": [
    "import os,openai,json\n",
    "from dotenv import find_dotenv,load_dotenv\n",
    "load_dotenv(find_dotenv())\n",
    "\n",
    "openai.api_key = os.environ['OPENAI_API_KEY']\n",
    "from langchain.chat_models import ChatOpenAI\n",
    "from langchain.prompts.chat import HumanMessage\n",
    "\n",
    "from opensearchpy import OpenSearch"
   ]
  },
  {
   "cell_type": "code",
   "execution_count": 2,
   "metadata": {},
   "outputs": [],
   "source": [
    "SERVICE_URI = 'localhost:9200'\n",
    "INDEX_NAME = 'epicurious-recipes'\n",
    "os_client = OpenSearch(hosts=SERVICE_URI, ssl_enable=True)"
   ]
  },
  {
   "cell_type": "code",
   "execution_count": 3,
   "metadata": {},
   "outputs": [],
   "source": [
    "INDEX_NAME = 'epicurious-recipes'\n",
    "mapping_data = os_client.indices.get_mapping(INDEX_NAME)\n",
    "mappings = mapping_data[INDEX_NAME]['mappings']\n",
    "# print(json.dumps(mappings,indent=2))"
   ]
  },
  {
   "cell_type": "code",
   "execution_count": 10,
   "metadata": {},
   "outputs": [],
   "source": [
    "DSL_TEMPLATE = \"\"\"\\\n",
    "Given an input question, create a syntactically correct Elasticsearch query to run. \\\n",
    "Unless the user specifies in their question a specific number of examples they wish to obtain, \\\n",
    "always limit your query to at most {top_k} results. \\\n",
    "You can order the results by a relevant column to return the most interesting examples in the database.\n",
    "\n",
    "Unless told to do not query for all the columns from a specific index, \\\n",
    "only ask for a the few relevant columns given the question.\n",
    "\n",
    "Pay attention to use only the column names that you can see in the mapping description. \\\n",
    "Be careful to not query for columns that do not exist. Also, pay attention to which column is in which index. \\\n",
    "Return the query as valid json.\n",
    "\n",
    "Use the following format:\n",
    "\n",
    "Question: Question here\n",
    "ESQuery: Elasticsearch Query formatted as json\n",
    "\n",
    "Mapping: {mapping}\n",
    "\n",
    "Question: {input}\n",
    "ESQuery:\n",
    "\"\"\""
   ]
  },
  {
   "cell_type": "code",
   "execution_count": 8,
   "metadata": {},
   "outputs": [],
   "source": [
    "def get_os_dsl(query,k):\n",
    "    prompt = DSL_TEMPLATE.format(\n",
    "        top_k=k,\n",
    "        mapping=json.dumps(mappings,indent=2),\n",
    "        input=query\n",
    "    )\n",
    "    chat = ChatOpenAI()\n",
    "    messages = [HumanMessage(content=prompt)]\n",
    "    response = chat(messages)\n",
    "    # print(response.content)\n",
    "    return response.content"
   ]
  },
  {
   "cell_type": "code",
   "execution_count": 22,
   "metadata": {},
   "outputs": [],
   "source": [
    "import langchain; langchain.debug = True"
   ]
  },
  {
   "cell_type": "code",
   "execution_count": 23,
   "metadata": {},
   "outputs": [
    {
     "name": "stdout",
     "output_type": "stream",
     "text": [
      "\u001b[32;1m\u001b[1;3m[llm/start]\u001b[0m \u001b[1m[1:llm:ChatOpenAI] Entering LLM run with input:\n",
      "\u001b[0m{\n",
      "  \"prompts\": [\n",
      "    \"Human: Given an input question, create a syntactically correct Elasticsearch query to run. Unless the user specifies in their question a specific number of examples they wish to obtain, always limit your query to at most 3 results. You can order the results by a relevant column to return the most interesting examples in the database.\\n\\nUnless told to do not query for all the columns from a specific index, only ask for a the few relevant columns given the question.\\n\\nPay attention to use only the column names that you can see in the mapping description. Be careful to not query for columns that do not exist. Also, pay attention to which column is in which index. Return the query as valid json.\\n\\nUse the following format:\\n\\nQuestion: Question here\\nESQuery: Elasticsearch Query formatted as json\\n\\nMapping: {\\n  \\\"properties\\\": {\\n    \\\"calories\\\": {\\n      \\\"type\\\": \\\"float\\\"\\n    },\\n    \\\"categories\\\": {\\n      \\\"type\\\": \\\"text\\\",\\n      \\\"fields\\\": {\\n        \\\"keyword\\\": {\\n          \\\"type\\\": \\\"keyword\\\",\\n          \\\"ignore_above\\\": 256\\n        }\\n      }\\n    },\\n    \\\"date\\\": {\\n      \\\"type\\\": \\\"date\\\"\\n    },\\n    \\\"desc\\\": {\\n      \\\"type\\\": \\\"text\\\",\\n      \\\"fields\\\": {\\n        \\\"keyword\\\": {\\n          \\\"type\\\": \\\"keyword\\\",\\n          \\\"ignore_above\\\": 256\\n        }\\n      }\\n    },\\n    \\\"directions\\\": {\\n      \\\"type\\\": \\\"text\\\",\\n      \\\"fields\\\": {\\n        \\\"keyword\\\": {\\n          \\\"type\\\": \\\"keyword\\\",\\n          \\\"ignore_above\\\": 256\\n        }\\n      }\\n    },\\n    \\\"fat\\\": {\\n      \\\"type\\\": \\\"float\\\"\\n    },\\n    \\\"ingredients\\\": {\\n      \\\"type\\\": \\\"text\\\",\\n      \\\"fields\\\": {\\n        \\\"keyword\\\": {\\n          \\\"type\\\": \\\"keyword\\\",\\n          \\\"ignore_above\\\": 256\\n        }\\n      }\\n    },\\n    \\\"protein\\\": {\\n      \\\"type\\\": \\\"float\\\"\\n    },\\n    \\\"rating\\\": {\\n      \\\"type\\\": \\\"float\\\"\\n    },\\n    \\\"sodium\\\": {\\n      \\\"type\\\": \\\"float\\\"\\n    },\\n    \\\"title\\\": {\\n      \\\"type\\\": \\\"text\\\",\\n      \\\"fields\\\": {\\n        \\\"keyword\\\": {\\n          \\\"type\\\": \\\"keyword\\\",\\n          \\\"ignore_above\\\": 256\\n        }\\n      }\\n    }\\n  }\\n}\\n\\nQuestion: 2010年以降のレシピのカロリーが高い順にレシピ名とカロリーを教えてください。\\nESQuery:\"\n",
      "  ]\n",
      "}\n",
      "\u001b[36;1m\u001b[1;3m[llm/end]\u001b[0m \u001b[1m[1:llm:ChatOpenAI] [3.07s] Exiting LLM run with output:\n",
      "\u001b[0m{\n",
      "  \"generations\": [\n",
      "    [\n",
      "      {\n",
      "        \"text\": \"{\\n  \\\"size\\\": 3,\\n  \\\"query\\\": {\\n    \\\"range\\\": {\\n      \\\"date\\\": {\\n        \\\"gte\\\": \\\"2010-01-01\\\"\\n      }\\n    }\\n  },\\n  \\\"sort\\\": [\\n    {\\n      \\\"calories\\\": {\\n        \\\"order\\\": \\\"desc\\\"\\n      }\\n    }\\n  ],\\n  \\\"_source\\\": [\\\"title\\\", \\\"calories\\\"]\\n}\",\n",
      "        \"generation_info\": null,\n",
      "        \"message\": {\n",
      "          \"content\": \"{\\n  \\\"size\\\": 3,\\n  \\\"query\\\": {\\n    \\\"range\\\": {\\n      \\\"date\\\": {\\n        \\\"gte\\\": \\\"2010-01-01\\\"\\n      }\\n    }\\n  },\\n  \\\"sort\\\": [\\n    {\\n      \\\"calories\\\": {\\n        \\\"order\\\": \\\"desc\\\"\\n      }\\n    }\\n  ],\\n  \\\"_source\\\": [\\\"title\\\", \\\"calories\\\"]\\n}\",\n",
      "          \"additional_kwargs\": {},\n",
      "          \"example\": false\n",
      "        }\n",
      "      }\n",
      "    ]\n",
      "  ],\n",
      "  \"llm_output\": {\n",
      "    \"token_usage\": {\n",
      "      \"prompt_tokens\": 520,\n",
      "      \"completion_tokens\": 79,\n",
      "      \"total_tokens\": 599\n",
      "    },\n",
      "    \"model_name\": \"gpt-3.5-turbo\"\n",
      "  },\n",
      "  \"run\": null\n",
      "}\n",
      "{\n",
      "  \"size\": 3,\n",
      "  \"query\": {\n",
      "    \"range\": {\n",
      "      \"date\": {\n",
      "        \"gte\": \"2010-01-01\"\n",
      "      }\n",
      "    }\n",
      "  },\n",
      "  \"sort\": [\n",
      "    {\n",
      "      \"calories\": {\n",
      "        \"order\": \"desc\"\n",
      "      }\n",
      "    }\n",
      "  ],\n",
      "  \"_source\": [\"title\", \"calories\"]\n",
      "}\n"
     ]
    }
   ],
   "source": [
    "top_k = 3\n",
    "query = '2010年以降のレシピのカロリーが高い順にレシピ名とカロリーを教えてください。'\n",
    "dsl = get_os_dsl(query,top_k)\n",
    "print(dsl)"
   ]
  },
  {
   "cell_type": "code",
   "execution_count": 21,
   "metadata": {},
   "outputs": [
    {
     "name": "stdout",
     "output_type": "stream",
     "text": [
      "{\n",
      "  \"took\": 7,\n",
      "  \"timed_out\": false,\n",
      "  \"_shards\": {\n",
      "    \"total\": 1,\n",
      "    \"successful\": 1,\n",
      "    \"skipped\": 0,\n",
      "    \"failed\": 0\n",
      "  },\n",
      "  \"hits\": {\n",
      "    \"total\": {\n",
      "      \"value\": 3948,\n",
      "      \"relation\": \"eq\"\n",
      "    },\n",
      "    \"max_score\": null,\n",
      "    \"hits\": [\n",
      "      {\n",
      "        \"_index\": \"epicurious-recipes\",\n",
      "        \"_id\": \"Od0xdokBfefTV2V6DEJk\",\n",
      "        \"_score\": null,\n",
      "        \"_source\": {\n",
      "          \"calories\": 12213.0,\n",
      "          \"title\": \"Garlic-Curry Chicken Thighs With Yogurt Sauce \"\n",
      "        },\n",
      "        \"sort\": [\n",
      "          12213.0\n",
      "        ]\n",
      "      },\n",
      "      {\n",
      "        \"_index\": \"epicurious-recipes\",\n",
      "        \"_id\": \"Ct0xdokBfefTV2V6DlF1\",\n",
      "        \"_score\": null,\n",
      "        \"_source\": {\n",
      "          \"calories\": 11453.0,\n",
      "          \"title\": \"Lamb Chops Scottadito\\n                With Charred Cherry Tomatoes \"\n",
      "        },\n",
      "        \"sort\": [\n",
      "          11453.0\n",
      "        ]\n",
      "      },\n",
      "      {\n",
      "        \"_index\": \"epicurious-recipes\",\n",
      "        \"_id\": \"ON0xdokBfefTV2V6DlJ1\",\n",
      "        \"_score\": null,\n",
      "        \"_source\": {\n",
      "          \"calories\": 8858.0,\n",
      "          \"title\": \"Goose Stew with Barley and Celery Root \"\n",
      "        },\n",
      "        \"sort\": [\n",
      "          8858.0\n",
      "        ]\n",
      "      }\n",
      "    ]\n",
      "  }\n",
      "}\n"
     ]
    }
   ],
   "source": [
    "res = os_client.search(index=INDEX_NAME,body=dsl)\n",
    "print(json.dumps(res,indent=2))"
   ]
  }
 ],
 "metadata": {
  "kernelspec": {
   "display_name": ".venv",
   "language": "python",
   "name": "python3"
  },
  "language_info": {
   "codemirror_mode": {
    "name": "ipython",
    "version": 3
   },
   "file_extension": ".py",
   "mimetype": "text/x-python",
   "name": "python",
   "nbconvert_exporter": "python",
   "pygments_lexer": "ipython3",
   "version": "3.10.5"
  },
  "orig_nbformat": 4
 },
 "nbformat": 4,
 "nbformat_minor": 2
}
