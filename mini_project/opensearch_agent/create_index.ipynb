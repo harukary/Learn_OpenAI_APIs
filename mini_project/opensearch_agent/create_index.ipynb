{
 "cells": [
  {
   "cell_type": "markdown",
   "metadata": {},
   "source": [
    "参考：[Sample dataset: recipes](https://docs.aiven.io/docs/products/opensearch/howto/sample-dataset)"
   ]
  },
  {
   "cell_type": "markdown",
   "metadata": {},
   "source": [
    "データセット：[Epicurious - Recipes with Rating and Nutrition](https://www.kaggle.com/datasets/hugodarwood/epirecipes?resource=download)"
   ]
  },
  {
   "cell_type": "code",
   "execution_count": 6,
   "metadata": {},
   "outputs": [],
   "source": [
    "# !pip install opensearch-py"
   ]
  },
  {
   "cell_type": "code",
   "execution_count": 7,
   "metadata": {},
   "outputs": [],
   "source": [
    "import json\n",
    "from opensearchpy import helpers, OpenSearch\n",
    "\n",
    "SERVICE_URI = 'localhost:9200'\n",
    "INDEX_NAME = 'epicurious-recipes'\n",
    "\n",
    "os_client = OpenSearch(hosts=SERVICE_URI, ssl_enable=True)\n",
    "\n",
    "def load_data():\n",
    "    with open('epicurious_recipes/full_format_recipes.json', 'r') as f:\n",
    "        data = json.load(f)\n",
    "        for recipe in data:\n",
    "            yield {'_index': INDEX_NAME, '_source': recipe}"
   ]
  },
  {
   "cell_type": "code",
   "execution_count": 8,
   "metadata": {},
   "outputs": [
    {
     "data": {
      "text/plain": [
       "(20130, [])"
      ]
     },
     "execution_count": 8,
     "metadata": {},
     "output_type": "execute_result"
    }
   ],
   "source": [
    "helpers.bulk(os_client, load_data())"
   ]
  },
  {
   "cell_type": "code",
   "execution_count": null,
   "metadata": {},
   "outputs": [],
   "source": [
    "import pprint\n",
    "\n",
    "mapping_data = os_client.indices.get_mapping(INDEX_NAME)\n",
    "\n",
    "# Find index doc_type\n",
    "doc_type = list(mapping_data[INDEX_NAME][\"mappings\"].keys())[0]\n",
    "\n",
    "schema = mapping_data[INDEX_NAME][\"mappings\"][doc_type]\n",
    "fields =  list(schema.keys())\n",
    "pprint(fields)\n",
    "pprint(schema)"
   ]
  }
 ],
 "metadata": {
  "kernelspec": {
   "display_name": ".venv",
   "language": "python",
   "name": "python3"
  },
  "language_info": {
   "codemirror_mode": {
    "name": "ipython",
    "version": 3
   },
   "file_extension": ".py",
   "mimetype": "text/x-python",
   "name": "python",
   "nbconvert_exporter": "python",
   "pygments_lexer": "ipython3",
   "version": "3.10.5"
  },
  "orig_nbformat": 4
 },
 "nbformat": 4,
 "nbformat_minor": 2
}
