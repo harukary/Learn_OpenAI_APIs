{
 "cells": [
  {
   "cell_type": "markdown",
   "metadata": {},
   "source": [
    "参考：[Sample dataset: recipes](https://docs.aiven.io/docs/products/opensearch/howto/sample-dataset)"
   ]
  },
  {
   "cell_type": "markdown",
   "metadata": {},
   "source": [
    "データセット：[Epicurious - Recipes with Rating and Nutrition](https://www.kaggle.com/datasets/hugodarwood/epirecipes?resource=download)"
   ]
  },
  {
   "cell_type": "code",
   "execution_count": 6,
   "metadata": {},
   "outputs": [],
   "source": [
    "# !pip install opensearch-py"
   ]
  },
  {
   "cell_type": "code",
   "execution_count": 2,
   "metadata": {},
   "outputs": [],
   "source": [
    "import json\n",
    "from opensearchpy import helpers, OpenSearch\n",
    "\n",
    "SERVICE_URI = 'localhost:9200'\n",
    "INDEX_NAME = 'epicurious-recipes'\n",
    "\n",
    "os_client = OpenSearch(hosts=SERVICE_URI, ssl_enable=True)\n",
    "\n",
    "def load_data():\n",
    "    with open('epicurious_recipes/full_format_recipes.json', 'r') as f:\n",
    "        data = json.load(f)\n",
    "        for recipe in data:\n",
    "            yield {'_index': INDEX_NAME, '_source': recipe}"
   ]
  },
  {
   "cell_type": "code",
   "execution_count": 3,
   "metadata": {},
   "outputs": [
    {
     "data": {
      "text/plain": [
       "(20130, [])"
      ]
     },
     "execution_count": 3,
     "metadata": {},
     "output_type": "execute_result"
    }
   ],
   "source": [
    "helpers.bulk(os_client, load_data())"
   ]
  },
  {
   "cell_type": "code",
   "execution_count": 4,
   "metadata": {},
   "outputs": [
    {
     "name": "stdout",
     "output_type": "stream",
     "text": [
      "{\n",
      "  \"properties\": {\n",
      "    \"calories\": {\n",
      "      \"type\": \"float\"\n",
      "    },\n",
      "    \"categories\": {\n",
      "      \"type\": \"text\",\n",
      "      \"fields\": {\n",
      "        \"keyword\": {\n",
      "          \"type\": \"keyword\",\n",
      "          \"ignore_above\": 256\n",
      "        }\n",
      "      }\n",
      "    },\n",
      "    \"date\": {\n",
      "      \"type\": \"date\"\n",
      "    },\n",
      "    \"desc\": {\n",
      "      \"type\": \"text\",\n",
      "      \"fields\": {\n",
      "        \"keyword\": {\n",
      "          \"type\": \"keyword\",\n",
      "          \"ignore_above\": 256\n",
      "        }\n",
      "      }\n",
      "    },\n",
      "    \"directions\": {\n",
      "      \"type\": \"text\",\n",
      "      \"fields\": {\n",
      "        \"keyword\": {\n",
      "          \"type\": \"keyword\",\n",
      "          \"ignore_above\": 256\n",
      "        }\n",
      "      }\n",
      "    },\n",
      "    \"fat\": {\n",
      "      \"type\": \"float\"\n",
      "    },\n",
      "    \"ingredients\": {\n",
      "      \"type\": \"text\",\n",
      "      \"fields\": {\n",
      "        \"keyword\": {\n",
      "          \"type\": \"keyword\",\n",
      "          \"ignore_above\": 256\n",
      "        }\n",
      "      }\n",
      "    },\n",
      "    \"protein\": {\n",
      "      \"type\": \"float\"\n",
      "    },\n",
      "    \"rating\": {\n",
      "      \"type\": \"float\"\n",
      "    },\n",
      "    \"sodium\": {\n",
      "      \"type\": \"float\"\n",
      "    },\n",
      "    \"title\": {\n",
      "      \"type\": \"text\",\n",
      "      \"fields\": {\n",
      "        \"keyword\": {\n",
      "          \"type\": \"keyword\",\n",
      "          \"ignore_above\": 256\n",
      "        }\n",
      "      }\n",
      "    }\n",
      "  }\n",
      "}\n"
     ]
    }
   ],
   "source": [
    "INDEX_NAME = 'epicurious-recipes'\n",
    "mapping_data = os_client.indices.get_mapping(INDEX_NAME)\n",
    "mappings = mapping_data[INDEX_NAME]['mappings']\n",
    "print(json.dumps(mappings,indent=2))"
   ]
  }
 ],
 "metadata": {
  "kernelspec": {
   "display_name": ".venv",
   "language": "python",
   "name": "python3"
  },
  "language_info": {
   "codemirror_mode": {
    "name": "ipython",
    "version": 3
   },
   "file_extension": ".py",
   "mimetype": "text/x-python",
   "name": "python",
   "nbconvert_exporter": "python",
   "pygments_lexer": "ipython3",
   "version": "3.10.1"
  },
  "orig_nbformat": 4
 },
 "nbformat": 4,
 "nbformat_minor": 2
}
