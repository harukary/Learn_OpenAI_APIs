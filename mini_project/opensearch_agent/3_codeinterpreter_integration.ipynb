{
 "cells": [
  {
   "cell_type": "code",
   "execution_count": 1,
   "metadata": {},
   "outputs": [
    {
     "data": {
      "text/plain": [
       "True"
      ]
     },
     "execution_count": 1,
     "metadata": {},
     "output_type": "execute_result"
    }
   ],
   "source": [
    "from dotenv import find_dotenv,load_dotenv\n",
    "load_dotenv(find_dotenv())"
   ]
  },
  {
   "cell_type": "code",
   "execution_count": 2,
   "metadata": {},
   "outputs": [
    {
     "ename": "KeyError",
     "evalue": "'OS_INDEX'",
     "output_type": "error",
     "traceback": [
      "\u001b[0;31m---------------------------------------------------------------------------\u001b[0m",
      "\u001b[0;31mKeyError\u001b[0m                                  Traceback (most recent call last)",
      "Cell \u001b[0;32mIn[2], line 6\u001b[0m\n\u001b[1;32m      3\u001b[0m \u001b[39mfrom\u001b[39;00m \u001b[39mpydantic\u001b[39;00m \u001b[39mimport\u001b[39;00m BaseModel\n\u001b[1;32m      5\u001b[0m \u001b[39mfrom\u001b[39;00m \u001b[39mopensearchpy\u001b[39;00m \u001b[39mimport\u001b[39;00m OpenSearch\n\u001b[0;32m----> 6\u001b[0m INDEX \u001b[39m=\u001b[39m os\u001b[39m.\u001b[39;49menviron[\u001b[39m'\u001b[39;49m\u001b[39mOS_INDEX\u001b[39;49m\u001b[39m'\u001b[39;49m]\n\u001b[1;32m      7\u001b[0m os_client \u001b[39m=\u001b[39m OpenSearch(hosts\u001b[39m=\u001b[39mos\u001b[39m.\u001b[39menviron[\u001b[39m'\u001b[39m\u001b[39mOS_ENDPOINT\u001b[39m\u001b[39m'\u001b[39m], ssl_enable\u001b[39m=\u001b[39m\u001b[39mTrue\u001b[39;00m)\n\u001b[1;32m      8\u001b[0m mappings \u001b[39m=\u001b[39m os_client\u001b[39m.\u001b[39mindices\u001b[39m.\u001b[39mget_mapping(INDEX)[INDEX][\u001b[39m'\u001b[39m\u001b[39mmappings\u001b[39m\u001b[39m'\u001b[39m]\n",
      "File \u001b[0;32m~/.pyenv/versions/3.10.1/lib/python3.10/os.py:679\u001b[0m, in \u001b[0;36m_Environ.__getitem__\u001b[0;34m(self, key)\u001b[0m\n\u001b[1;32m    676\u001b[0m     value \u001b[39m=\u001b[39m \u001b[39mself\u001b[39m\u001b[39m.\u001b[39m_data[\u001b[39mself\u001b[39m\u001b[39m.\u001b[39mencodekey(key)]\n\u001b[1;32m    677\u001b[0m \u001b[39mexcept\u001b[39;00m \u001b[39mKeyError\u001b[39;00m:\n\u001b[1;32m    678\u001b[0m     \u001b[39m# raise KeyError with the original key value\u001b[39;00m\n\u001b[0;32m--> 679\u001b[0m     \u001b[39mraise\u001b[39;00m \u001b[39mKeyError\u001b[39;00m(key) \u001b[39mfrom\u001b[39;00m \u001b[39mNone\u001b[39;00m\n\u001b[1;32m    680\u001b[0m \u001b[39mreturn\u001b[39;00m \u001b[39mself\u001b[39m\u001b[39m.\u001b[39mdecodevalue(value)\n",
      "\u001b[0;31mKeyError\u001b[0m: 'OS_INDEX'"
     ]
    }
   ],
   "source": [
    "import os,json,uuid,base64,asyncio\n",
    "from io import BytesIO\n",
    "from pydantic import BaseModel\n",
    "\n",
    "from opensearchpy import OpenSearch\n",
    "INDEX = os.environ['OS_INDEX']\n",
    "os_client = OpenSearch(hosts=os.environ['OS_ENDPOINT'], ssl_enable=True)\n",
    "mappings = os_client.indices.get_mapping(INDEX)[INDEX]['mappings']\n",
    "\n",
    "from codeboxapi import CodeBox\n",
    "from codeboxapi.schema import CodeBoxOutput\n",
    "codebox = CodeBox()\n",
    "\n",
    "from langchain.chat_models import ChatOpenAI\n",
    "from langchain.prompts.chat import HumanMessage"
   ]
  },
  {
   "cell_type": "code",
   "execution_count": 20,
   "metadata": {},
   "outputs": [],
   "source": [
    "top_k = 10000\n",
    "# user_input = '2010年以降のレシピのうち、カロリーが高い順に100個のレシピのカロリーの散布図を描いてください。'\n",
    "user_input = '2010年以降のレシピのカロリーのヒストグラムを描いてください。'"
   ]
  },
  {
   "cell_type": "code",
   "execution_count": 21,
   "metadata": {},
   "outputs": [],
   "source": [
    "DSL_TEMPLATE = \"\"\"\\\n",
    "Given an input question, create a syntactically correct Elasticsearch query to run. \\\n",
    "Unless the user specifies in their question a specific number of examples they wish to obtain, \\\n",
    "always limit your query to at most {top_k} results. \\\n",
    "You can order the results by a relevant column to return the most interesting examples in the database.\n",
    "\n",
    "Unless told to do not query for all the columns from a specific index, \\\n",
    "only ask for a the few relevant columns given the question.\n",
    "\n",
    "Pay attention to use only the column names that you can see in the mapping description. \\\n",
    "Be careful to not query for columns that do not exist. Also, pay attention to which column is in which index. \\\n",
    "Return the query as valid json.\n",
    "\n",
    "Use the following format:\n",
    "\n",
    "Question: Question here\n",
    "ESQuery: Elasticsearch Query formatted as json\n",
    "\n",
    "Mapping: {mapping}\n",
    "\n",
    "Question: {input}\n",
    "ESQuery:\n",
    "\"\"\""
   ]
  },
  {
   "cell_type": "code",
   "execution_count": 22,
   "metadata": {},
   "outputs": [],
   "source": [
    "def get_os_dsl(query,k):\n",
    "    prompt = DSL_TEMPLATE.format(\n",
    "        top_k=k,\n",
    "        mapping=json.dumps(mappings,indent=2),\n",
    "        input=query\n",
    "    )\n",
    "    chat = ChatOpenAI()\n",
    "    messages = [HumanMessage(content=prompt)]\n",
    "    response = chat(messages)\n",
    "    # print(response.content)\n",
    "    return response.content"
   ]
  },
  {
   "cell_type": "code",
   "execution_count": 23,
   "metadata": {},
   "outputs": [],
   "source": [
    "query = get_os_dsl(user_input,top_k)"
   ]
  },
  {
   "cell_type": "code",
   "execution_count": 24,
   "metadata": {},
   "outputs": [],
   "source": [
    "result = os_client.search(index=INDEX,body=json.loads(query))"
   ]
  },
  {
   "cell_type": "code",
   "execution_count": 25,
   "metadata": {},
   "outputs": [],
   "source": [
    "CODE_TEMPLATE = '''\\\n",
    "## Input\n",
    "{user_input}\n",
    "\n",
    "## Query\n",
    "{query}\n",
    "\n",
    "## Instruction\n",
    "[Input]に対して、OpenSearchで[Query]を入力し検索を行い、検索結果をresultに入力しました。\n",
    "resultを用いて[Input]に対する回答を得るためのPythonコードを書いてください。\n",
    "resultは入力済みの状態から開始してください。\n",
    "'''"
   ]
  },
  {
   "cell_type": "code",
   "execution_count": 26,
   "metadata": {},
   "outputs": [],
   "source": [
    "prompt = CODE_TEMPLATE.format(\n",
    "    user_input=user_input,query=query\n",
    ")"
   ]
  },
  {
   "cell_type": "code",
   "execution_count": 27,
   "metadata": {},
   "outputs": [],
   "source": [
    "chat = ChatOpenAI(temperature=0.)\n",
    "messages = [HumanMessage(content=prompt)]\n",
    "response = chat(messages)"
   ]
  },
  {
   "cell_type": "code",
   "execution_count": 28,
   "metadata": {},
   "outputs": [],
   "source": [
    "code = f'result = {json.dumps(result).replace(\"false\",\"False\").replace(\"null\",\"None\")}\\n\\n'+response.content"
   ]
  },
  {
   "cell_type": "code",
   "execution_count": 29,
   "metadata": {},
   "outputs": [],
   "source": [
    "class File(BaseModel):\n",
    "    name: str\n",
    "    content: bytes\n",
    "\n",
    "    @classmethod\n",
    "    def from_path(cls, path: str):\n",
    "        with open(path, \"rb\") as f:\n",
    "            path = path.split(\"/\")[-1]\n",
    "            return cls(name=path, content=f.read())\n",
    "\n",
    "    @classmethod\n",
    "    async def afrom_path(cls, path: str):\n",
    "        return await asyncio.to_thread(cls.from_path, path)\n",
    "\n",
    "    @classmethod\n",
    "    def from_url(cls, url: str):\n",
    "        import requests  # type: ignore\n",
    "\n",
    "        r = requests.get(url)\n",
    "        return cls(name=url.split(\"/\")[-1], content=r.content)\n",
    "\n",
    "    @classmethod\n",
    "    async def afrom_url(cls, url: str):\n",
    "        import aiohttp\n",
    "\n",
    "        async with aiohttp.ClientSession() as session:\n",
    "            async with session.get(url) as r:\n",
    "                return cls(name=url.split(\"/\")[-1], content=await r.read())\n",
    "\n",
    "    def save(self, path: str):\n",
    "        with open(path, \"wb\") as f:\n",
    "            f.write(self.content)\n",
    "\n",
    "    async def asave(self, path: str):\n",
    "        await asyncio.to_thread(self.save, path)\n",
    "\n",
    "    def show_image(self):\n",
    "        try:\n",
    "            from PIL import Image  # type: ignore\n",
    "        except ImportError:\n",
    "            print(\n",
    "                \"Please install it with `pip install codeinterpreterapi[image_support]` to display images.\"\n",
    "            )\n",
    "            exit(1)\n",
    "\n",
    "        from io import BytesIO\n",
    "\n",
    "        img_io = BytesIO(self.content)\n",
    "        img = Image.open(img_io)\n",
    "\n",
    "        # Convert image to RGB if it's not\n",
    "        if img.mode not in ('RGB', 'L'):  # L is for greyscale images\n",
    "            img = img.convert('RGB')\n",
    "\n",
    "        # Display the image\n",
    "        try:\n",
    "            # Try to get the IPython shell if available.\n",
    "            shell = get_ipython().__class__.__name__  # type: ignore\n",
    "\n",
    "            # If the shell is ZMQInteractiveShell, it means we're in a Jupyter notebook or similar.\n",
    "            if shell == 'ZMQInteractiveShell':\n",
    "                from IPython.display import display\n",
    "                display(img)\n",
    "            else:\n",
    "                # We're not in a Jupyter notebook.\n",
    "                img.show()\n",
    "        except NameError:\n",
    "            # We're probably not in an IPython environment, use PIL's show.\n",
    "            img.show()\n",
    "\n",
    "    def __str__(self):\n",
    "        return self.name\n",
    "\n",
    "    def __repr__(self):\n",
    "        return f\"File(name={self.name})\""
   ]
  },
  {
   "cell_type": "code",
   "execution_count": 30,
   "metadata": {},
   "outputs": [
    {
     "name": "stderr",
     "output_type": "stream",
     "text": [
      "Unclosed client session\n",
      "client_session: <aiohttp.client.ClientSession object at 0x7f4ef76836a0>\n"
     ]
    }
   ],
   "source": [
    "await codebox.astart()\n",
    "output: CodeBoxOutput = await codebox.arun(code)\n",
    "output_files = []\n",
    "# print(output.content)\n",
    "if output.type == \"image/png\":\n",
    "    filename = f\"image-{uuid.uuid4()}.png\"\n",
    "    file_buffer = BytesIO(base64.b64decode(output.content))\n",
    "    file_buffer.name = filename\n",
    "    output_files.append(File(name=filename, content=file_buffer.read()))\n"
   ]
  },
  {
   "cell_type": "code",
   "execution_count": 31,
   "metadata": {},
   "outputs": [
    {
     "data": {
      "image/png": "[encoded data removed]",
      "text/plain": [
       "<PIL.Image.Image image mode=RGB size=571x455>"
      ]
     },
     "metadata": {},
     "output_type": "display_data"
    }
   ],
   "source": [
    "for f in output_files:\n",
    "    f.show_image()"
   ]
  },
  {
   "cell_type": "code",
   "execution_count": 32,
   "metadata": {},
   "outputs": [
    {
     "data": {
      "text/plain": [
       "Status(stopped)"
      ]
     },
     "execution_count": 32,
     "metadata": {},
     "output_type": "execute_result"
    }
   ],
   "source": [
    "await codebox.astop()"
   ]
  }
 ],
 "metadata": {
  "kernelspec": {
   "display_name": ".venv",
   "language": "python",
   "name": "python3"
  },
  "language_info": {
   "codemirror_mode": {
    "name": "ipython",
    "version": 3
   },
   "file_extension": ".py",
   "mimetype": "text/x-python",
   "name": "python",
   "nbconvert_exporter": "python",
   "pygments_lexer": "ipython3",
   "version": "3.10.1"
  },
  "orig_nbformat": 4
 },
 "nbformat": 4,
 "nbformat_minor": 2
}
