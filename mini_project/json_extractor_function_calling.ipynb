{
 "cells": [
  {
   "attachments": {},
   "cell_type": "markdown",
   "metadata": {},
   "source": [
    "### 必要なパッケージをインポート"
   ]
  },
  {
   "attachments": {},
   "cell_type": "markdown",
   "metadata": {},
   "source": [
    "#### .envファイル\n",
    "```yaml\n",
    "OPENAI_API_KEY=sk-************************\n",
    "```"
   ]
  },
  {
   "cell_type": "code",
   "execution_count": 11,
   "metadata": {},
   "outputs": [],
   "source": [
    "import openai,os,requests,json,re,bs4\n",
    "from tqdm import tqdm\n",
    "from dotenv import load_dotenv, find_dotenv\n",
    "_ = load_dotenv(find_dotenv())\n",
    "openai.api_key = os.environ['OPENAI_API_KEY']"
   ]
  },
  {
   "cell_type": "code",
   "execution_count": 12,
   "metadata": {},
   "outputs": [],
   "source": [
    "from langchain.prompts import ChatPromptTemplate\n",
    "from langchain.document_loaders import UnstructuredHTMLLoader\n",
    "from langchain.text_splitter import RecursiveCharacterTextSplitter\n",
    "from langchain.chat_models import ChatOpenAI"
   ]
  },
  {
   "attachments": {},
   "cell_type": "markdown",
   "metadata": {},
   "source": [
    "### Prompts"
   ]
  },
  {
   "attachments": {},
   "cell_type": "markdown",
   "metadata": {},
   "source": [
    "LangChainのRefineに倣い、InitialプロンプトとRefineプロンプトを作成した。\\\n",
    "不要な「,」を含んで、json.loads()でパースできない場合があったため、以下を追加した。\\\n",
    "（これでもたまにパースできないJsonを返してくる。。\\\n",
    "LangChainのOutput Parserを使いたいが、リストや入れ子構造があるJsonに対する方法がわからない。\\\n",
    "Pydantic Parserだと、英語で書かないとプロンプトが文字化けする。）\n",
    "\n",
    "```\n",
    "json.loads()関数でパースできるよう、listやdictの最後の要素には「,」を含めないでください。\n",
    "```\n",
    "\n",
    "また、Refineプロンプトでは、必要な場合のみ修正するようにした。\n",
    "ドキュメントの最初に重要な情報が多く、最後に近づくにつれ関連コンテンツなど、メインコンテンツと関係ないものが多くなるという仮定を入れている。\n",
    "\n",
    "```\n",
    "[Text]をもとに、[Data]について新しい情報がある場合のみ[Data]を修正してください。\\\n",
    "[Text]が[Data]に関連した情報を提供しない場合、[Data]をそのまま出力してください。\n",
    "```"
   ]
  },
  {
   "cell_type": "code",
   "execution_count": 13,
   "metadata": {},
   "outputs": [],
   "source": [
    "initial_prompt = \"\"\"\\\n",
    "Input:\n",
    "{text}\n",
    "\n",
    "Instruction:\n",
    "[Input]はある{data_type}のWebページのテキストの一部です。\n",
    "\"\"\"\n",
    "\n",
    "refine_prompt = \"\"\"\\\n",
    "Data:\n",
    "{data}\n",
    "\n",
    "Input:\n",
    "{text}\n",
    "\n",
    "Instruction:\n",
    "[Input]はある{data_type}のWebページのテキストの一部です。\\\n",
    "あなたのタスクは、[Data]を[Input]をもとにRefineすることです。\\\n",
    "[Input]が[Data]に関連した追加情報を提供しない場合、[Data]をそのまま出力してください。\n",
    "\"\"\""
   ]
  },
  {
   "attachments": {},
   "cell_type": "markdown",
   "metadata": {},
   "source": [
    "### ヘルパー関数"
   ]
  },
  {
   "attachments": {},
   "cell_type": "markdown",
   "metadata": {},
   "source": [
    "メイン関数で使う関数などを定義した。\n",
    "\n",
    "`chunk_size`などは、現在はえいやで決めている。\\\n",
    "指示プロンプトと出力Jsonフォーマットのトークン数に基づき、トークン数制約ぎりぎりになるように調整することでチャンク数を抑えられるため、\\\n",
    "今後クラス化して使うときに調整機能をつけようと思う。"
   ]
  },
  {
   "cell_type": "code",
   "execution_count": 14,
   "metadata": {},
   "outputs": [],
   "source": [
    "text_splitter = RecursiveCharacterTextSplitter(\n",
    "    chunk_size = 8194,\n",
    "    chunk_overlap  = 512,\n",
    "    length_function = len,\n",
    ")\n",
    "chat = ChatOpenAI(temperature=0.)\n",
    "\n",
    "def load_doc(url):\n",
    "    response = requests.get(url)\n",
    "    with open('temp.html','w') as f:\n",
    "        f.write(response.text)\n",
    "    loader = UnstructuredHTMLLoader(\"temp.html\")\n",
    "    data = loader.load()\n",
    "    return data\n",
    "\n",
    "# def get_raw_html(url):\n",
    "#     response = requests.get(url)\n",
    "#     return response.text\n",
    "\n",
    "# def get_comressed_html(url):\n",
    "#     html = get_raw_html(url)\n",
    "#     soup = bs4.BeautifulSoup(html, 'html.parser')"
   ]
  },
  {
   "attachments": {},
   "cell_type": "markdown",
   "metadata": {},
   "source": [
    "### メイン関数"
   ]
  },
  {
   "attachments": {},
   "cell_type": "markdown",
   "metadata": {},
   "source": [
    "まずはWebページのテキストをLangChainのドキュメントとし、チャンクに分割する。\\\n",
    "１つ目のチャンクにはInitialプロンプト、２つ目以降の各チャンクにはRefineプロンプトを適用する。\\\n",
    "最後にソースURLをデータに加えて終了。"
   ]
  },
  {
   "cell_type": "code",
   "execution_count": 22,
   "metadata": {},
   "outputs": [],
   "source": [
    "def extact_json_from_url(url,function,debug=False):\n",
    "    doc = load_doc(url)\n",
    "    docs = text_splitter.split_documents(doc)\n",
    "    # text = get_raw_html(url)\n",
    "    # docs = text_splitter.create_documents([text])\n",
    "    data = {}\n",
    "    if debug:\n",
    "        print('docs:',len(docs))\n",
    "    for i,doc in enumerate(docs):\n",
    "        text = doc.page_content\n",
    "        if debug:\n",
    "            print(i+1,'-'*30)\n",
    "            print(text.replace('\\n','').replace(' ','')[:100],'...')\n",
    "            print('...',text.replace('\\n','').replace(' ','')[-100:])\n",
    "        if i == 0:\n",
    "            messages = [\n",
    "                {\n",
    "                    'role': 'user',\n",
    "                    \"content\": initial_prompt.format(text=text,data_type='レシピ')\n",
    "                }\n",
    "            ]\n",
    "            response = openai.ChatCompletion.create(\n",
    "                model=\"gpt-3.5-turbo-16k\",\n",
    "                messages=messages,\n",
    "                functions=[function]\n",
    "            )\n",
    "            message = response[\"choices\"][0][\"message\"]\n",
    "            if 'function_call' in message:\n",
    "                if debug:\n",
    "                    print(message['function_call']['arguments'])\n",
    "                data = json.loads(message['function_call']['arguments'])\n",
    "        else:\n",
    "            messages = [\n",
    "                {\n",
    "                    'role': 'user',\n",
    "                    \"content\": refine_prompt.format(text=text,data_type='レシピ',data=json.dumps(data,indent=2,ensure_ascii=False))\n",
    "                }\n",
    "            ]\n",
    "            response = openai.ChatCompletion.create(\n",
    "                model=\"gpt-3.5-turbo-0613\",\n",
    "                messages=messages,\n",
    "                functions=[function]\n",
    "            )\n",
    "            message = response[\"choices\"][0][\"message\"]\n",
    "            if 'function_call' in message:\n",
    "                if debug:\n",
    "                    print(message['function_call']['arguments'])\n",
    "                data = json.loads(message['function_call']['arguments'])\n",
    "        if debug:\n",
    "            print(json.dumps(data,ensure_ascii=False))\n",
    "    data['url'] = url\n",
    "    return data"
   ]
  },
  {
   "attachments": {},
   "cell_type": "markdown",
   "metadata": {},
   "source": [
    "### Example: レシピ"
   ]
  },
  {
   "attachments": {},
   "cell_type": "markdown",
   "metadata": {},
   "source": [
    "```json\n",
    "{\n",
    "    \"name\": \"レシピ名\",\n",
    "    \"description\": \"レシピの説明\",\n",
    "    \"cooking_time\": \"int: minutes\",\n",
    "    \"appliances\": [\n",
    "        \"str: 調理器具\"\n",
    "    ],\n",
    "    \"serves\": \"int: 人前\",\n",
    "    \"ingredients\": [\n",
    "        {\n",
    "            \"name\": \"str: 材料名\",\n",
    "            \"amount\": \"str: 分量表記\",\n",
    "        }\n",
    "    ],\n",
    "    \"steps\": {\n",
    "        \"str: 手順番号\":\"str: 手順の説明\"\n",
    "    }\n",
    "}\n",
    "```"
   ]
  },
  {
   "cell_type": "code",
   "execution_count": 16,
   "metadata": {},
   "outputs": [],
   "source": [
    "function = {\n",
    "    \"name\": \"get_recipe\",\n",
    "    \"description\": \"レシピをJson形式で返す\",\n",
    "    \"parameters\": {\n",
    "        \"type\": \"object\",\n",
    "        \"properties\": {\n",
    "            \"name\": {\n",
    "                \"type\": \"string\", \"description\": \"レシピ名\"\n",
    "            },\n",
    "            \"description\": {\n",
    "                \"type\": \"string\", \"description\": \"レシピの説明\"\n",
    "            },\n",
    "            \"cooking_time\": {\n",
    "                \"type\": \"number\", \"description\": \"調理時間\"\n",
    "            },\n",
    "            \"appliances\": {\n",
    "                \"type\": \"array\", \"description\": \"使用機器のリスト\",\n",
    "                \"items\": {\n",
    "                    \"type\": \"string\", \"description\": \"使用機器\"\n",
    "                }\n",
    "            },\n",
    "            \"serves\": {\n",
    "                \"type\": \"number\", \"description\": \"人前\"\n",
    "            },\n",
    "            \"ingredients\": {\n",
    "                \"type\": \"object\", \"description\": \"材料のリスト\",\n",
    "                \"properties\": {\n",
    "                    \"name\": {\n",
    "                        \"type\": \"string\", \"description\": \"材料名\"\n",
    "                    },\n",
    "                    \"amount\": {\n",
    "                        \"type\": \"string\", \"description\": \"材料の分量表記。例：200g, 大さじ1, 2個, etc\",\n",
    "                    }\n",
    "                }\n",
    "            },\n",
    "            \"instructions\": {\n",
    "                \"type\": \"array\", \"description\": \"調理手順のリスト\",\n",
    "                \"items\": {\n",
    "                    \"type\": \"string\", \"description\": \"調理手順\"\n",
    "                }\n",
    "            },\n",
    "        },\n",
    "        # \"required\": [\"name\",\"appliances\",\"ingredients\",\"instructions\"],\n",
    "    }\n",
    "}"
   ]
  },
  {
   "cell_type": "code",
   "execution_count": 17,
   "metadata": {},
   "outputs": [],
   "source": [
    "# url = \"https://park.ajinomoto.co.jp/recipe/card/705645/\"\n",
    "url = \"https://www.lettuceclub.net/recipe/dish/14360/\""
   ]
  },
  {
   "cell_type": "code",
   "execution_count": 23,
   "metadata": {},
   "outputs": [
    {
     "name": "stdout",
     "output_type": "stream",
     "text": [
      "docs: 1\n",
      "1 ------------------------------\n",
      "観光案内所なごや観光ルートバス「メーグル」お気に入り日本語日本語English中文(繁體字)中文(简体字)한국어ไทยTiếngviệtMICE開催をご検討の方教育旅行フィルムコミッションフォトライブ ...\n",
      "... グよくある質問SNSのご案内バリアフリー情報フリーWiFi情報マイボトル対応冷水機「金鯱水」MICE開催をご検討の方へ教育旅行をお考えの方へなごや・ロケーション・ナビ名古屋観光コンベンションビューロー\n",
      "{}\n",
      "{\n",
      "  \"url\": \"https://www.nagoya-info.jp/event/detail/404/\"\n",
      "}\n"
     ]
    }
   ],
   "source": [
    "data = extact_json_from_url(url,function,debug=True)\n",
    "print(json.dumps(data,indent=2,ensure_ascii=False))"
   ]
  },
  {
   "cell_type": "code",
   "execution_count": null,
   "metadata": {},
   "outputs": [],
   "source": [
    "print()"
   ]
  },
  {
   "attachments": {},
   "cell_type": "markdown",
   "metadata": {},
   "source": [
    "### Example: イベント"
   ]
  },
  {
   "attachments": {},
   "cell_type": "markdown",
   "metadata": {},
   "source": [
    "```json\n",
    "{\n",
    "    \"title\": \"str: イベント名\",\n",
    "    \"organizer\": \"str: 主催者\",\n",
    "    \"date\": [\"str: 日付。形式はYYYY/MM/DD\"],\n",
    "    \"location\": \"str: 開催場所\",\n",
    "    \"description\": \"str: イベント概要。400字以内\",\n",
    "    \"schedule\": [\"str: スケジュール。形式はYYYY/MM/DD HH:MM~HH:MM（補足）\"],\n",
    "}\n",
    "```"
   ]
  },
  {
   "cell_type": "code",
   "execution_count": 19,
   "metadata": {},
   "outputs": [],
   "source": [
    "function = {\n",
    "    \"name\": \"get_event\",\n",
    "    \"description\": \"イベント情報をJson形式で返す\",\n",
    "    \"parameters\": {\n",
    "        \"type\": \"object\",\n",
    "        \"properties\": {\n",
    "            \"title\": {\n",
    "                \"type\": \"string\", \"description\": \"イベント名\"\n",
    "            },\n",
    "            \"organizer\": {\n",
    "                \"type\": \"string\", \"description\": \"主催者\"\n",
    "            },\n",
    "            \"date\": {\n",
    "                \"type\": \"array\", \"description\": \"開催日\",\n",
    "                \"items\": {\n",
    "                    \"type\": \"string\", \"description\": \"形式はYYYY/MM/DD\"\n",
    "                }\n",
    "            },\n",
    "            \"location\": {\n",
    "                \"type\": \"string\", \"description\": \"開催場所\"\n",
    "            },\n",
    "            \"descrption\": {\n",
    "                \"type\": \"string\", \"description\": \"イベント概要。400字以内\"\n",
    "            },\n",
    "            \"schedule\": {\n",
    "                \"type\": \"array\", \"description\": \"スケジュール\",\n",
    "                \"items\": {\n",
    "                    \"type\": \"string\", \"description\": \"形式はYYYY/MM/DD HH:MM~HH:MM（補足）\"\n",
    "                }\n",
    "            },\n",
    "        },\n",
    "        # \"required\": [\"title\",\"date\",\"descrption\",\"instructions\"],\n",
    "    }\n",
    "}"
   ]
  },
  {
   "cell_type": "code",
   "execution_count": 20,
   "metadata": {},
   "outputs": [],
   "source": [
    "# url = \"https://food-innovation.co/sksjapan/sksj2023/\"\n",
    "url = \"https://www.nagoya-info.jp/event/detail/404/\""
   ]
  },
  {
   "cell_type": "code",
   "execution_count": 21,
   "metadata": {},
   "outputs": [
    {
     "name": "stdout",
     "output_type": "stream",
     "text": [
      "1 ------------------------------\n",
      "観光案内所なごや観光ルートバス「メーグル」お気に入り日本語日本語English中文(繁體字)中文(简体字)한국어ไทยTiếngviệtMICE開催をご検討の方教育旅行フィルムコミッションフォトライブ ...\n",
      "... グよくある質問SNSのご案内バリアフリー情報フリーWiFi情報マイボトル対応冷水機「金鯱水」MICE開催をご検討の方へ教育旅行をお考えの方へなごや・ロケーション・ナビ名古屋観光コンベンションビューロー\n",
      "{\n",
      "  \"title\": \"オアシス２１iセンター体験イベント＜有松・鳴海絞り染め＞\",\n",
      "  \"organizer\": \"オアシス２１iセンター\",\n",
      "  \"date\": [\"2023年6月12日(月)\"],\n",
      "  \"location\": \"オアシス２１iセンター前（オアシス２１地下1階）\",\n",
      "  \"descrption\": \"このイベントは終了しました。\",\n",
      "  \"schedule\": []\n",
      "}\n",
      "{\"title\": \"オアシス２１iセンター体験イベント＜有松・鳴海絞り染め＞\", \"organizer\": \"オアシス２１iセンター\", \"date\": [\"2023年6月12日(月)\"], \"location\": \"オアシス２１iセンター前（オアシス２１地下1階）\", \"descrption\": \"このイベントは終了しました。\", \"schedule\": []}\n",
      "{\n",
      "  \"title\": \"オアシス２１iセンター体験イベント＜有松・鳴海絞り染め＞\",\n",
      "  \"organizer\": \"オアシス２１iセンター\",\n",
      "  \"date\": [\n",
      "    \"2023年6月12日(月)\"\n",
      "  ],\n",
      "  \"location\": \"オアシス２１iセンター前（オアシス２１地下1階）\",\n",
      "  \"descrption\": \"このイベントは終了しました。\",\n",
      "  \"schedule\": [],\n",
      "  \"url\": \"https://www.nagoya-info.jp/event/detail/404/\"\n",
      "}\n"
     ]
    }
   ],
   "source": [
    "data = extact_json_from_url(url,function,debug=True)\n",
    "print(json.dumps(data,indent=2,ensure_ascii=False))"
   ]
  }
 ],
 "metadata": {
  "kernelspec": {
   "display_name": ".venv",
   "language": "python",
   "name": "python3"
  },
  "language_info": {
   "codemirror_mode": {
    "name": "ipython",
    "version": 3
   },
   "file_extension": ".py",
   "mimetype": "text/x-python",
   "name": "python",
   "nbconvert_exporter": "python",
   "pygments_lexer": "ipython3",
   "version": "3.10.5"
  },
  "orig_nbformat": 4
 },
 "nbformat": 4,
 "nbformat_minor": 2
}
