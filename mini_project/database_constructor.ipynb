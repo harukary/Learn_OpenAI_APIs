{
 "cells": [
  {
   "cell_type": "code",
   "execution_count": 34,
   "metadata": {},
   "outputs": [],
   "source": [
    "import openai,os,requests,json,re\n",
    "from tqdm import tqdm\n",
    "from dotenv import load_dotenv, find_dotenv\n",
    "_ = load_dotenv(find_dotenv())\n",
    "openai.api_key = os.environ['OPENAI_API_KEY']"
   ]
  },
  {
   "attachments": {},
   "cell_type": "markdown",
   "metadata": {},
   "source": [
    "### List up"
   ]
  },
  {
   "cell_type": "code",
   "execution_count": 35,
   "metadata": {},
   "outputs": [],
   "source": [
    "list_up_format = \"\"\"\\\n",
    "あなたは{who}です。\\\n",
    "{what}をもれなくリストアップしてください。\n",
    "\"\"\""
   ]
  },
  {
   "cell_type": "code",
   "execution_count": 36,
   "metadata": {},
   "outputs": [
    {
     "name": "stdout",
     "output_type": "stream",
     "text": [
      "あなたは管理栄養士です。食品名をもれなくリストアップしてください。\n",
      "\n"
     ]
    }
   ],
   "source": [
    "who = '管理栄養士'\n",
    "what = '食品名'\n",
    "list_up_prompt = list_up_format.format(\n",
    "    who=who,what=what\n",
    ")\n",
    "print(list_up_prompt)"
   ]
  },
  {
   "cell_type": "code",
   "execution_count": 37,
   "metadata": {},
   "outputs": [],
   "source": [
    "messages = [\n",
    "    {\n",
    "        'role': 'system',\n",
    "        \"content\": list_up_prompt\n",
    "    }\n",
    "]"
   ]
  },
  {
   "cell_type": "code",
   "execution_count": 38,
   "metadata": {},
   "outputs": [],
   "source": [
    "response = openai.ChatCompletion.create(\n",
    "    model=\"gpt-3.5-turbo-0613\",\n",
    "    messages=messages,\n",
    "    # functions=[function],\n",
    "    # function_call={'name':function['name']}\n",
    ")\n",
    "message = response[\"choices\"][0][\"message\"]"
   ]
  },
  {
   "cell_type": "code",
   "execution_count": 39,
   "metadata": {},
   "outputs": [
    {
     "name": "stdout",
     "output_type": "stream",
     "text": [
      "以下は、管理栄養士がリストアップする可能性のある食品名の一部です。\n",
      "\n",
      "1. 野菜類\n",
      "- トマト\n",
      "- キャベツ\n",
      "- レタス\n",
      "- ほうれん草\n",
      "- キュウリ\n",
      "- なす\n",
      "- かぼちゃ\n",
      "- にんじん\n",
      "- じゃがいも\n",
      "- さつまいも\n",
      "\n",
      "2. 果物類\n",
      "- りんご\n",
      "- ばなな\n",
      "- オレンジ\n",
      "- いちご\n",
      "- グレープフルーツ\n",
      "- マンゴー\n",
      "- ブルーベリー\n",
      "- パイナップル\n",
      "- パッションフルーツ\n",
      "- スイカ\n",
      "\n",
      "3. 穀物類\n",
      "- 米\n",
      "- パン\n",
      "- 麺類（うどん、そば、スパゲッティなど）\n",
      "- オートミール\n",
      "- 穀物シリアル\n",
      "- クエン酸\n",
      "- パンケーキミックス\n",
      "\n",
      "4. 乳製品類\n",
      "- 牛乳\n",
      "- ヨーグルト\n",
      "- チーズ\n",
      "- バター\n",
      "- アイスクリーム\n",
      "- ココナッツミルク\n",
      "- 豆乳\n",
      "\n",
      "5. 魚介類\n",
      "- サバ\n",
      "- マグロ\n",
      "- サーモン\n",
      "- エビ\n",
      "- イカ\n",
      "- シャコ\n",
      "- タコ\n",
      "- アジ\n",
      "- クルマエビ\n",
      "- ホタテ\n",
      "\n",
      "6. 肉類\n",
      "- 鶏肉\n",
      "- 豚肉\n",
      "- 牛肉\n",
      "- ラム肉\n",
      "- 鴨肉\n",
      "- ウィンナー\n",
      "- ベーコン\n",
      "- ソーセージ\n",
      "- ハム\n",
      "- ステーキ\n",
      "\n",
      "7. その他の食材\n",
      "- 卵\n",
      "- 大豆製品（豆腐、納豆、豆乳など）\n",
      "- キノコ類（しいたけ、エリンギ、まいたけなど）\n",
      "- シーフードミックス\n",
      "- こんにゃく\n",
      "- わさび\n",
      "- ごま油\n",
      "- 塩\n",
      "- 砂糖\n",
      "- みりん\n"
     ]
    }
   ],
   "source": [
    "print(message['content'])"
   ]
  },
  {
   "cell_type": "code",
   "execution_count": 40,
   "metadata": {},
   "outputs": [],
   "source": [
    "function = {\n",
    "    \"name\": \"get_list\",\n",
    "    \"description\": \"リストを得る\",\n",
    "    \"parameters\": {\n",
    "        \"type\": \"object\",\n",
    "        \"properties\": {\n",
    "            \"list\": {\n",
    "                \"type\": \"array\",\n",
    "                \"description\": \"リスト\",\n",
    "                \"items\": {\n",
    "                    \"type\": \"string\", \"description\": \"リストの要素\"\n",
    "                }\n",
    "            }\n",
    "        },\n",
    "        \"required\": [\"list\"],\n",
    "    }\n",
    "}"
   ]
  },
  {
   "cell_type": "code",
   "execution_count": 43,
   "metadata": {},
   "outputs": [],
   "source": [
    "system_prompt = '入力テキストからすべての要素をリストで出力してください。'\n",
    "messages = [\n",
    "    {'role':'system','content':system_prompt},\n",
    "    {'role':'user','content':message['content']},\n",
    "]"
   ]
  },
  {
   "cell_type": "code",
   "execution_count": 45,
   "metadata": {},
   "outputs": [],
   "source": [
    "response = openai.ChatCompletion.create(\n",
    "    model=\"gpt-3.5-turbo-0613\",\n",
    "    messages=messages,\n",
    "    functions=[function],\n",
    "    function_call={'name':function['name']}\n",
    ")\n",
    "list_up = response[\"choices\"][0][\"message\"]"
   ]
  },
  {
   "cell_type": "code",
   "execution_count": 48,
   "metadata": {},
   "outputs": [
    {
     "name": "stdout",
     "output_type": "stream",
     "text": [
      "{\n",
      "\"list\": [\n",
      "\"野菜類\",\n",
      "\"- トマト\",\n",
      "\"- キャベツ\",\n",
      "\"- レタス\",\n",
      "\"- ほうれん草\",\n",
      "\"- キュウリ\",\n",
      "\"- なす\",\n",
      "\"- かぼちゃ\",\n",
      "\"- にんじん\",\n",
      "\"- じゃがいも\",\n",
      "\"- さつまいも\",\n",
      "\"果物類\",\n",
      "\"- りんご\",\n",
      "\"- ばなな\",\n",
      "\"- オレンジ\",\n",
      "\"- いちご\",\n",
      "\"- グレープフルーツ\",\n",
      "\"- マンゴー\",\n",
      "\"- ブルーベリー\",\n",
      "\"- パイナップル\",\n",
      "\"- パッションフルーツ\",\n",
      "\"- スイカ\",\n",
      "\"穀物類\",\n",
      "\"- 米\",\n",
      "\"- パン\",\n",
      "\"- 麺類（うどん、そば、スパゲッティなど）\",\n",
      "\"- オートミール\",\n",
      "\"- 穀物シリアル\",\n",
      "\"- クエン酸\",\n",
      "\"- パンケーキミックス\",\n",
      "\"乳製品類\",\n",
      "\"- 牛乳\",\n",
      "\"- ヨーグルト\",\n",
      "\"- チーズ\",\n",
      "\"- バター\",\n",
      "\"- アイスクリーム\",\n",
      "\"- ココナッツミルク\",\n",
      "\"- 豆乳\",\n",
      "\"魚介類\",\n",
      "\"- サバ\",\n",
      "\"- マグロ\",\n",
      "\"- サーモン\",\n",
      "\"- エビ\",\n",
      "\"- イカ\",\n",
      "\"- シャコ\",\n",
      "\"- タコ\",\n",
      "\"- アジ\",\n",
      "\"- クルマエビ\",\n",
      "\"- ホタテ\",\n",
      "\"肉類\",\n",
      "\"- 鶏肉\",\n",
      "\"- 豚肉\",\n",
      "\"- 牛肉\",\n",
      "\"- ラム肉\",\n",
      "\"- 鴨肉\",\n",
      "\"- ウィンナー\",\n",
      "\"- ベーコン\",\n",
      "\"- ソーセージ\",\n",
      "\"- ハム\",\n",
      "\"- ステーキ\",\n",
      "\"その他の食材\",\n",
      "\"- 卵\",\n",
      "\"- 大豆製品（豆腐、納豆、豆乳など）\",\n",
      "\"- キノコ類（しいたけ、エリンギ、まいたけなど）\",\n",
      "\"- シーフードミックス\",\n",
      "\"- こんにゃく\",\n",
      "\"- わさび\",\n",
      "\"- ごま油\",\n",
      "\"- 塩\",\n",
      "\"- 砂糖\",\n",
      "\"- みりん\"\n",
      "]\n",
      "}\n"
     ]
    }
   ],
   "source": [
    "print(list_up['function_call']['arguments'])"
   ]
  }
 ],
 "metadata": {
  "kernelspec": {
   "display_name": ".venv",
   "language": "python",
   "name": "python3"
  },
  "language_info": {
   "codemirror_mode": {
    "name": "ipython",
    "version": 3
   },
   "file_extension": ".py",
   "mimetype": "text/x-python",
   "name": "python",
   "nbconvert_exporter": "python",
   "pygments_lexer": "ipython3",
   "version": "3.10.1"
  },
  "orig_nbformat": 4
 },
 "nbformat": 4,
 "nbformat_minor": 2
}
