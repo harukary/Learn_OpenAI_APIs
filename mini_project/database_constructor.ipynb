{
 "cells": [
  {
   "cell_type": "code",
   "execution_count": 1,
   "metadata": {},
   "outputs": [],
   "source": [
    "import openai,os,requests,json,re\n",
    "from tqdm import tqdm\n",
    "from dotenv import load_dotenv, find_dotenv\n",
    "_ = load_dotenv(find_dotenv())\n",
    "openai.api_key = os.environ['OPENAI_API_KEY']"
   ]
  },
  {
   "attachments": {},
   "cell_type": "markdown",
   "metadata": {},
   "source": [
    "### List up"
   ]
  },
  {
   "cell_type": "code",
   "execution_count": 2,
   "metadata": {},
   "outputs": [],
   "source": [
    "list_up_format = \"\"\"\\\n",
    "あなたは{who}です。\\\n",
    "{what}をもれなくリストアップしてください。\n",
    "\"\"\""
   ]
  },
  {
   "cell_type": "code",
   "execution_count": 3,
   "metadata": {},
   "outputs": [
    {
     "name": "stdout",
     "output_type": "stream",
     "text": [
      "あなたは管理栄養士です。食品名をもれなくリストアップしてください。\n",
      "\n"
     ]
    }
   ],
   "source": [
    "who = '管理栄養士'\n",
    "what = '食品名'\n",
    "list_up_prompt = list_up_format.format(\n",
    "    who=who,what=what\n",
    ")\n",
    "print(list_up_prompt)"
   ]
  },
  {
   "cell_type": "code",
   "execution_count": 4,
   "metadata": {},
   "outputs": [],
   "source": [
    "messages = [\n",
    "    {\n",
    "        'role': 'system',\n",
    "        \"content\": list_up_prompt\n",
    "    }\n",
    "]"
   ]
  },
  {
   "cell_type": "code",
   "execution_count": 5,
   "metadata": {},
   "outputs": [],
   "source": [
    "response = openai.ChatCompletion.create(\n",
    "    model=\"gpt-3.5-turbo-0613\",\n",
    "    messages=messages,\n",
    "    # functions=[function],\n",
    "    # function_call={'name':function['name']}\n",
    ")\n",
    "message = response[\"choices\"][0][\"message\"]"
   ]
  },
  {
   "cell_type": "code",
   "execution_count": 6,
   "metadata": {},
   "outputs": [
    {
     "name": "stdout",
     "output_type": "stream",
     "text": [
      "以下に、さまざまな食品名の例をリストアップします。\n",
      "\n",
      "1. りんご\n",
      "2. ばなな\n",
      "3. いちご\n",
      "4. オレンジ\n",
      "5. すいか\n",
      "6. みかん\n",
      "7. レモン\n",
      "8. ぶどう\n",
      "9. さくらんぼ\n",
      "10. パイナップル\n",
      "11. マンゴー\n",
      "12. きゅうり\n",
      "13. にんじん\n",
      "14. トマト\n",
      "15. じゃがいも\n",
      "16. キャベツ\n",
      "17. レタス\n",
      "18. ほうれん草\n",
      "19. ブロッコリー\n",
      "20. もやし\n",
      "21. さつまいも\n",
      "22. ごぼう\n",
      "23. たけのこ\n",
      "24. 玉ねぎ\n",
      "25. にら\n",
      "26. ねぎ\n",
      "27. もも\n",
      "28. さば\n",
      "29. いわし\n",
      "30. さんま\n",
      "\n",
      "これらは、果物や野菜、魚などの一般的な食品名の一部です。ただし、リストはさらに長くなる可能性があります。\n"
     ]
    }
   ],
   "source": [
    "print(message['content'])"
   ]
  },
  {
   "cell_type": "code",
   "execution_count": 7,
   "metadata": {},
   "outputs": [],
   "source": [
    "function = {\n",
    "    \"name\": \"get_list\",\n",
    "    \"description\": \"リストを得る\",\n",
    "    \"parameters\": {\n",
    "        \"type\": \"object\",\n",
    "        \"properties\": {\n",
    "            \"list\": {\n",
    "                \"type\": \"array\",\n",
    "                \"description\": \"リスト\",\n",
    "                \"items\": {\n",
    "                    \"type\": \"object\", \"description\": \"リストの要素\",\n",
    "                    \"properties\": {\n",
    "                        \"name\": {\n",
    "                            \"type\": \"string\", \"description\": \"要素の名称\",\n",
    "                        },\n",
    "                        \"class\": {\n",
    "                            \"type\": \"string\", \"description\": \"要素の分類\",\n",
    "                        }\n",
    "                    }\n",
    "                }\n",
    "            }\n",
    "        },\n",
    "        \"required\": [\"list\"],\n",
    "    }\n",
    "}"
   ]
  },
  {
   "cell_type": "code",
   "execution_count": 8,
   "metadata": {},
   "outputs": [],
   "source": [
    "system_prompt = '入力テキストからすべての要素をリストで出力してください。'\n",
    "messages = [\n",
    "    {'role':'system','content':system_prompt},\n",
    "    {'role':'user','content':message['content']},\n",
    "]"
   ]
  },
  {
   "cell_type": "code",
   "execution_count": 9,
   "metadata": {},
   "outputs": [],
   "source": [
    "response = openai.ChatCompletion.create(\n",
    "    model=\"gpt-3.5-turbo-0613\",\n",
    "    messages=messages,\n",
    "    functions=[function],\n",
    "    function_call={'name':function['name']}\n",
    ")\n",
    "list_up = response[\"choices\"][0][\"message\"]"
   ]
  },
  {
   "cell_type": "code",
   "execution_count": 94,
   "metadata": {},
   "outputs": [],
   "source": [
    "data = json.loads(list_up['function_call']['arguments'])['list']"
   ]
  },
  {
   "cell_type": "code",
   "execution_count": 95,
   "metadata": {},
   "outputs": [
    {
     "name": "stdout",
     "output_type": "stream",
     "text": [
      "[{'name': 'りんご', 'class': '果物'}, {'name': 'ばなな', 'class': '果物'}, {'name': 'いちご', 'class': '果物'}, {'name': 'オレンジ', 'class': '果物'}, {'name': 'すいか', 'class': '果物'}, {'name': 'みかん', 'class': '果物'}, {'name': 'レモン', 'class': '果物'}, {'name': 'ぶどう', 'class': '果物'}, {'name': 'さくらんぼ', 'class': '果物'}, {'name': 'パイナップル', 'class': '果物'}, {'name': 'マンゴー', 'class': '果物'}, {'name': 'きゅうり', 'class': '野菜'}, {'name': 'にんじん', 'class': '野菜'}, {'name': 'トマト', 'class': '野菜'}, {'name': 'じゃがいも', 'class': '野菜'}, {'name': 'キャベツ', 'class': '野菜'}, {'name': 'レタス', 'class': '野菜'}, {'name': 'ほうれん草', 'class': '野菜'}, {'name': 'ブロッコリー', 'class': '野菜'}, {'name': 'もやし', 'class': '野菜'}, {'name': 'さつまいも', 'class': '野菜'}, {'name': 'ごぼう', 'class': '野菜'}, {'name': 'たけのこ', 'class': '野菜'}, {'name': '玉ねぎ', 'class': '野菜'}, {'name': 'にら', 'class': '野菜'}, {'name': 'ねぎ', 'class': '野菜'}, {'name': 'もも', 'class': '魚'}, {'name': 'さば', 'class': '魚'}, {'name': 'いわし', 'class': '魚'}, {'name': 'さんま', 'class': '魚'}]\n"
     ]
    }
   ],
   "source": [
    "print(data)"
   ]
  },
  {
   "attachments": {},
   "cell_type": "markdown",
   "metadata": {},
   "source": [
    "```json\n",
    "{\n",
    "    \"name\": \"str\",\n",
    "    \"class\": \"str\",\n",
    "    \"season\": {\n",
    "        \"start\": \"str: YY/MM/DD\",\n",
    "        \"end\": \"str: YY/MM/DD\",\n",
    "    },\n",
    "    \"cooking_methods\": [\"str\"],\n",
    "    \"compatible_ingredients\": [\"str\"],\n",
    "    \"descriptions\": {\n",
    "        \"nutrition\": \"str\",\n",
    "        \"delicious_ways_to_eat\": \"str\",\n",
    "        \"season\": \"str\",\n",
    "    },\n",
    "}\n",
    "```"
   ]
  },
  {
   "cell_type": "code",
   "execution_count": 137,
   "metadata": {},
   "outputs": [],
   "source": [
    "data_format = {\n",
    "    \"type\": \"object\",\n",
    "    \"properties\": {\n",
    "        \"name\": {\n",
    "            \"type\": \"string\", \"description\": \"食品名。（）は使わない\"\n",
    "        },\n",
    "        \"class\": {\n",
    "            \"type\": \"string\", \"description\": \"食品分類\",\n",
    "            \"enum\": [\"野菜\",\"きのこ\",\"肉\",\"魚\",\"加工肉\",\"加工魚\",\"豆製品\",\"卵・乳製品\"]\n",
    "        },\n",
    "        \"season\": {\n",
    "            \"type\": \"object\", \"description\": \"旬の時期\",\n",
    "            \"properties\": {\n",
    "                \"start\": {\"type\": \"string\", \"description\": \"旬の時期の開始（MM/DD）\"},\n",
    "                \"end\": {\"type\": \"string\", \"description\": \"旬の時期の終了（MM/DD）\"},\n",
    "            }\n",
    "        },\n",
    "        \"cooking_method\": {\n",
    "            \"type\": \"array\", \"description\": \"適した調理方法\",\n",
    "            \"items\": {\n",
    "                \"type\": \"string\",\n",
    "                \"description\": \"調理方法\",\n",
    "                \"enum\": [\"焼く\",\"炒める\",\"煮る\",\"ゆでる\",\"蒸す\",\"和える\",\"生\"]\n",
    "            },\n",
    "        },\n",
    "        # \"description\": {\n",
    "        #     \"type\": \"object\", \"description\": \"\",\n",
    "        # },\n",
    "        \"compatible_ingredients\": {\n",
    "            \"type\": \"array\", \"description\": \"相性の良い食材リスト\",\n",
    "            \"items\": {\n",
    "                \"type\": \"string\", \"description\": \"相性の良い食材\"\n",
    "            }\n",
    "        }\n",
    "    },\n",
    "    \"required\": ['name','class','season','cooking_method','compatible_ingredients']\n",
    "}"
   ]
  },
  {
   "cell_type": "code",
   "execution_count": 138,
   "metadata": {},
   "outputs": [],
   "source": [
    "data_extract_format = \"\"\"\\\n",
    "## Data\n",
    "{data}\n",
    "\n",
    "## Components\n",
    "{components}\n",
    "\n",
    "## Instruction\n",
    "[Data]について、[Components]を埋める情報を全て説明してください。\n",
    "\"\"\""
   ]
  },
  {
   "cell_type": "code",
   "execution_count": 139,
   "metadata": {},
   "outputs": [],
   "source": [
    "d = data[0]['name']"
   ]
  },
  {
   "cell_type": "code",
   "execution_count": 140,
   "metadata": {},
   "outputs": [
    {
     "name": "stdout",
     "output_type": "stream",
     "text": [
      "りんご\n"
     ]
    }
   ],
   "source": [
    "print(d)"
   ]
  },
  {
   "cell_type": "code",
   "execution_count": 141,
   "metadata": {},
   "outputs": [],
   "source": [
    "components = ['食材名','食品分類','旬の時期','適した調理方法','相性の良い食材']\n",
    "data_extract_prompt = data_extract_format.format(\n",
    "    data=d, components=','.join(components)\n",
    ")"
   ]
  },
  {
   "cell_type": "code",
   "execution_count": 142,
   "metadata": {},
   "outputs": [],
   "source": [
    "# print(data_extract_prompt)"
   ]
  },
  {
   "cell_type": "code",
   "execution_count": 143,
   "metadata": {},
   "outputs": [],
   "source": [
    "messages = [\n",
    "    {'role': 'system', 'content': data_extract_prompt}\n",
    "]"
   ]
  },
  {
   "cell_type": "code",
   "execution_count": 144,
   "metadata": {},
   "outputs": [],
   "source": [
    "# print(json.dumps(function,indent=2,ensure_ascii=False))"
   ]
  },
  {
   "cell_type": "code",
   "execution_count": 145,
   "metadata": {},
   "outputs": [],
   "source": [
    "response = openai.ChatCompletion.create(\n",
    "    model=\"gpt-3.5-turbo-0613\",\n",
    "    messages=messages,\n",
    "    temperature=0.,\n",
    "    # functions=[function],\n",
    "    # function_call={'name':function['name']}\n",
    ")\n",
    "message = response[\"choices\"][0][\"message\"]"
   ]
  },
  {
   "cell_type": "code",
   "execution_count": 146,
   "metadata": {},
   "outputs": [
    {
     "name": "stdout",
     "output_type": "stream",
     "text": [
      "[Components]\n",
      "- 食材名: りんご\n",
      "- 食品分類: 果物\n",
      "- 旬の時期: 秋から冬\n",
      "- 適した調理方法: 生食、ジャムやジュースの作成、焼きりんご、りんごのパイなどのデザートの材料として使用されることが多い\n",
      "- 相性の良い食材: シナモン、レモン、バター、クルミ、はちみつ、シナモン、バニラアイスクリームなど\n"
     ]
    }
   ],
   "source": [
    "print(message['content'])"
   ]
  },
  {
   "cell_type": "code",
   "execution_count": 147,
   "metadata": {},
   "outputs": [],
   "source": [
    "messages = [\n",
    "    {'role': 'system', 'content': message['content']}\n",
    "]"
   ]
  },
  {
   "cell_type": "code",
   "execution_count": 148,
   "metadata": {},
   "outputs": [],
   "source": [
    "function = {\n",
    "    'name': 'get_food_data',\n",
    "    'description': '食材データを得る',\n",
    "    'parameters': data_format\n",
    "}\n",
    "response = openai.ChatCompletion.create(\n",
    "    model=\"gpt-3.5-turbo-0613\",\n",
    "    messages=messages,\n",
    "    temperature=0.,\n",
    "    functions=[function],\n",
    "    function_call={'name':function['name']}\n",
    ")\n",
    "message = response[\"choices\"][0][\"message\"]"
   ]
  },
  {
   "cell_type": "code",
   "execution_count": 149,
   "metadata": {},
   "outputs": [
    {
     "name": "stdout",
     "output_type": "stream",
     "text": [
      "{'name': 'りんご', 'class': '果物', 'season': {'start': '秋', 'end': '冬'}, 'cooking_method': ['生'], 'compatible_ingredients': ['シナモン', 'レモン', 'バター', 'クルミ', 'はちみつ', 'シナモン', 'バニラアイスクリーム']}\n"
     ]
    }
   ],
   "source": [
    "food_data = json.loads(message['function_call']['arguments'])\n",
    "print(food_data)"
   ]
  },
  {
   "cell_type": "code",
   "execution_count": 150,
   "metadata": {},
   "outputs": [
    {
     "ename": "SyntaxError",
     "evalue": "incomplete input (3122223509.py, line 3)",
     "output_type": "error",
     "traceback": [
      "\u001b[0;36m  Cell \u001b[0;32mIn[150], line 3\u001b[0;36m\u001b[0m\n\u001b[0;31m    \u001b[0m\n\u001b[0m    ^\u001b[0m\n\u001b[0;31mSyntaxError\u001b[0m\u001b[0;31m:\u001b[0m incomplete input\n"
     ]
    }
   ],
   "source": [
    "database = []\n",
    "for d in data:\n",
    "    "
   ]
  }
 ],
 "metadata": {
  "kernelspec": {
   "display_name": ".venv",
   "language": "python",
   "name": "python3"
  },
  "language_info": {
   "codemirror_mode": {
    "name": "ipython",
    "version": 3
   },
   "file_extension": ".py",
   "mimetype": "text/x-python",
   "name": "python",
   "nbconvert_exporter": "python",
   "pygments_lexer": "ipython3",
   "version": "3.10.5"
  },
  "orig_nbformat": 4
 },
 "nbformat": 4,
 "nbformat_minor": 2
}
